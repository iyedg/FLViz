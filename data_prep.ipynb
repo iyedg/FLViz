{
 "cells": [
  {
   "cell_type": "code",
   "execution_count": 1,
   "metadata": {},
   "outputs": [],
   "source": [
    "import zipfile\n",
    "from pathlib import Path\n",
    "\n",
    "import altair as alt\n",
    "import numpy as np\n",
    "import pandas as pd\n",
    "from loguru import logger"
   ]
  },
  {
   "cell_type": "markdown",
   "metadata": {},
   "source": [
    "## Loading data from source zip"
   ]
  },
  {
   "cell_type": "code",
   "execution_count": 2,
   "metadata": {},
   "outputs": [],
   "source": [
    "def load_from_zip():\n",
    "    \"\"\"\n",
    "    load_from_zip reads a list of excel files from the source zip file into a \n",
    "    dictionary with the values are DataFrames from them.\n",
    "    \"\"\"\n",
    "    dfs = {\"fr\": {}, \"ar\": {}}\n",
    "    with zipfile.ZipFile(\"data-votes-lf.zip\") as z:\n",
    "        for f in z.filelist:\n",
    "            file_path = Path(f.filename)\n",
    "            if \".xlsx\" in file_path.name:\n",
    "                with z.open(file_path.as_posix()) as f:\n",
    "                    # File names are of the format \"votes-lf-2015-fr\" \n",
    "                    # that's why I use split over \"-\" to extract only the year\n",
    "                    # perhaps using regex is more sensible\n",
    "                    key_name = file_path.stem.split(\"-\")[2]\n",
    "                    if \"fr\" in file_path.name:\n",
    "                        dfs[\"fr\"][key_name] = pd.read_excel(f)\n",
    "                    else:\n",
    "                        dfs[\"ar\"][key_name] = pd.read_excel(f)\n",
    "    return dfs"
   ]
  },
  {
   "cell_type": "code",
   "execution_count": 3,
   "metadata": {},
   "outputs": [],
   "source": [
    "data = load_from_zip()"
   ]
  },
  {
   "cell_type": "markdown",
   "metadata": {},
   "source": [
    "## Merging data into a single Data Frame"
   ]
  },
  {
   "cell_type": "markdown",
   "metadata": {},
   "source": [
    "The strategy is to apply some transformations over each data frame and append the resulting **tidy data frame** to a list, which in turn is then merged into a single data frame. The transformations should be the same for all data frame, **although that should be tested**."
   ]
  },
  {
   "cell_type": "code",
   "execution_count": 4,
   "metadata": {},
   "outputs": [],
   "source": [
    "def tidy(df, year, is_comp):\n",
    "    return (\n",
    "        df.dropna(axis=\"columns\", how=\"all\")  # The data contains an empty column\n",
    "        .melt(id_vars=[\"depute\", \"bloc\"], var_name=\"loi\", value_name=\"vote\")\n",
    "        .pipe(\n",
    "            # year and is_comp used to track origin of dataframe\n",
    "            lambda df: df.assign(year=int(year), is_comp=is_comp)\n",
    "        )\n",
    "    )"
   ]
  },
  {
   "cell_type": "markdown",
   "metadata": {},
   "source": [
    "Tidying data in French"
   ]
  },
  {
   "cell_type": "code",
   "execution_count": 5,
   "metadata": {},
   "outputs": [],
   "source": [
    "tidy_fr_dfs = []"
   ]
  },
  {
   "cell_type": "code",
   "execution_count": 6,
   "metadata": {},
   "outputs": [],
   "source": [
    "for df in data[\"fr\"]:\n",
    "    year = df[:4]\n",
    "    is_comp = df[-3:] == \"bis\"\n",
    "    tidy_df = tidy(data[\"fr\"][df], year, is_comp)\n",
    "    tidy_fr_dfs.append(tidy_df)"
   ]
  },
  {
   "cell_type": "code",
   "execution_count": 7,
   "metadata": {},
   "outputs": [],
   "source": [
    "tidy_fr = pd.concat(tidy_fr_dfs)"
   ]
  },
  {
   "cell_type": "code",
   "execution_count": 8,
   "metadata": {},
   "outputs": [
    {
     "data": {
      "text/html": [
       "<div>\n",
       "<style scoped>\n",
       "    .dataframe tbody tr th:only-of-type {\n",
       "        vertical-align: middle;\n",
       "    }\n",
       "\n",
       "    .dataframe tbody tr th {\n",
       "        vertical-align: top;\n",
       "    }\n",
       "\n",
       "    .dataframe thead th {\n",
       "        text-align: right;\n",
       "    }\n",
       "</style>\n",
       "<table border=\"1\" class=\"dataframe\">\n",
       "  <thead>\n",
       "    <tr style=\"text-align: right;\">\n",
       "      <th></th>\n",
       "      <th>depute</th>\n",
       "      <th>bloc</th>\n",
       "      <th>loi</th>\n",
       "      <th>vote</th>\n",
       "      <th>year</th>\n",
       "      <th>is_comp</th>\n",
       "    </tr>\n",
       "  </thead>\n",
       "  <tbody>\n",
       "    <tr>\n",
       "      <th>36984</th>\n",
       "      <td>Rim Mahjoub</td>\n",
       "      <td>Allégeance à la Patrie</td>\n",
       "      <td>Ajout d'article N°3 par le gouvernement</td>\n",
       "      <td>pour</td>\n",
       "      <td>2017</td>\n",
       "      <td>False</td>\n",
       "    </tr>\n",
       "    <tr>\n",
       "      <th>20667</th>\n",
       "      <td>Imen Ben Mhamed</td>\n",
       "      <td>Mouvement Ennahdha</td>\n",
       "      <td>Article 39 nouveau</td>\n",
       "      <td>X</td>\n",
       "      <td>2018</td>\n",
       "      <td>False</td>\n",
       "    </tr>\n",
       "    <tr>\n",
       "      <th>36933</th>\n",
       "      <td>Mohamed Frikha</td>\n",
       "      <td>Mouvement Ennahdha</td>\n",
       "      <td>Proposition N°29 d'ajout d'article</td>\n",
       "      <td>X</td>\n",
       "      <td>2016</td>\n",
       "      <td>False</td>\n",
       "    </tr>\n",
       "    <tr>\n",
       "      <th>21503</th>\n",
       "      <td>Faycel Khelifa</td>\n",
       "      <td>Mouvement Nidaa Tounes</td>\n",
       "      <td>Vote sur l’article 61 dans sa version initiale</td>\n",
       "      <td>pour</td>\n",
       "      <td>2019</td>\n",
       "      <td>False</td>\n",
       "    </tr>\n",
       "    <tr>\n",
       "      <th>2474</th>\n",
       "      <td>Meherzia Laabidi</td>\n",
       "      <td>Mouvement Ennahdha</td>\n",
       "      <td>Budget du ministère des affaires étrangères</td>\n",
       "      <td>X</td>\n",
       "      <td>2017</td>\n",
       "      <td>False</td>\n",
       "    </tr>\n",
       "  </tbody>\n",
       "</table>\n",
       "</div>"
      ],
      "text/plain": [
       "                 depute                    bloc  \\\n",
       "36984       Rim Mahjoub  Allégeance à la Patrie   \n",
       "20667   Imen Ben Mhamed      Mouvement Ennahdha   \n",
       "36933    Mohamed Frikha      Mouvement Ennahdha   \n",
       "21503    Faycel Khelifa  Mouvement Nidaa Tounes   \n",
       "2474   Meherzia Laabidi      Mouvement Ennahdha   \n",
       "\n",
       "                                                  loi  vote  year  is_comp  \n",
       "36984         Ajout d'article N°3 par le gouvernement  pour  2017    False  \n",
       "20667                              Article 39 nouveau     X  2018    False  \n",
       "36933              Proposition N°29 d'ajout d'article     X  2016    False  \n",
       "21503  Vote sur l’article 61 dans sa version initiale  pour  2019    False  \n",
       "2474      Budget du ministère des affaires étrangères     X  2017    False  "
      ]
     },
     "execution_count": 8,
     "metadata": {},
     "output_type": "execute_result"
    }
   ],
   "source": [
    "tidy_fr.sample(5)"
   ]
  },
  {
   "cell_type": "markdown",
   "metadata": {},
   "source": [
    "A simple safeguard test to check if the transofrmations occurred correctly. We expect the number of deputees across years and types of law *regular or complementary* to be 217."
   ]
  },
  {
   "cell_type": "code",
   "execution_count": 9,
   "metadata": {},
   "outputs": [
    {
     "data": {
      "text/html": [
       "<div>\n",
       "<style scoped>\n",
       "    .dataframe tbody tr th:only-of-type {\n",
       "        vertical-align: middle;\n",
       "    }\n",
       "\n",
       "    .dataframe tbody tr th {\n",
       "        vertical-align: top;\n",
       "    }\n",
       "\n",
       "    .dataframe thead th {\n",
       "        text-align: right;\n",
       "    }\n",
       "</style>\n",
       "<table border=\"1\" class=\"dataframe\">\n",
       "  <thead>\n",
       "    <tr style=\"text-align: right;\">\n",
       "      <th></th>\n",
       "      <th></th>\n",
       "      <th>depute</th>\n",
       "    </tr>\n",
       "    <tr>\n",
       "      <th>year</th>\n",
       "      <th>is_comp</th>\n",
       "      <th></th>\n",
       "    </tr>\n",
       "  </thead>\n",
       "  <tbody>\n",
       "    <tr>\n",
       "      <th>2016</th>\n",
       "      <th>True</th>\n",
       "      <td>219</td>\n",
       "    </tr>\n",
       "    <tr>\n",
       "      <th>2017</th>\n",
       "      <th>True</th>\n",
       "      <td>216</td>\n",
       "    </tr>\n",
       "    <tr>\n",
       "      <th>2018</th>\n",
       "      <th>False</th>\n",
       "      <td>216</td>\n",
       "    </tr>\n",
       "  </tbody>\n",
       "</table>\n",
       "</div>"
      ],
      "text/plain": [
       "              depute\n",
       "year is_comp        \n",
       "2016 True        219\n",
       "2017 True        216\n",
       "2018 False       216"
      ]
     },
     "execution_count": 9,
     "metadata": {},
     "output_type": "execute_result"
    }
   ],
   "source": [
    "tidy_fr.groupby([\"year\", \"is_comp\"]).nunique().pipe(\n",
    "    lambda df: df.loc[df.depute != 217, \"depute\"]\n",
    ").to_frame()"
   ]
  },
  {
   "cell_type": "markdown",
   "metadata": {},
   "source": [
    "## Inconsistent number of MPs"
   ]
  },
  {
   "cell_type": "markdown",
   "metadata": {},
   "source": [
    "To explore this issue, we need to see for each deputy (*or MP for member of parliment*) the years in which they have *at least voted once*. To achieve this, we pivot our data so that deputee names are the index, the columns are `year` and `is_comp`, and the value is the count of votes. Afterwards we simplify the data so that if a deputee has voted at least once in a year for a type of law (*is_comp*) they get 1, else it is 0."
   ]
  },
  {
   "cell_type": "code",
   "execution_count": 10,
   "metadata": {},
   "outputs": [],
   "source": [
    "is_mp_by_year = tidy_fr.pivot_table(\n",
    "    index=\"depute\",\n",
    "    columns=[\"year\", \"is_comp\"],\n",
    "    values=\"vote\",\n",
    "    aggfunc=\"count\",\n",
    "    fill_value=0,\n",
    ").pipe(lambda df: df.applymap(lambda x: 1 if x > 0 else 0))"
   ]
  },
  {
   "cell_type": "code",
   "execution_count": 11,
   "metadata": {},
   "outputs": [
    {
     "data": {
      "text/html": [
       "<div>\n",
       "<style scoped>\n",
       "    .dataframe tbody tr th:only-of-type {\n",
       "        vertical-align: middle;\n",
       "    }\n",
       "\n",
       "    .dataframe tbody tr th {\n",
       "        vertical-align: top;\n",
       "    }\n",
       "\n",
       "    .dataframe thead tr th {\n",
       "        text-align: left;\n",
       "    }\n",
       "\n",
       "    .dataframe thead tr:last-of-type th {\n",
       "        text-align: right;\n",
       "    }\n",
       "</style>\n",
       "<table border=\"1\" class=\"dataframe\">\n",
       "  <thead>\n",
       "    <tr>\n",
       "      <th>year</th>\n",
       "      <th>2015</th>\n",
       "      <th colspan=\"2\" halign=\"left\">2016</th>\n",
       "      <th colspan=\"2\" halign=\"left\">2017</th>\n",
       "      <th>2018</th>\n",
       "      <th>2019</th>\n",
       "    </tr>\n",
       "    <tr>\n",
       "      <th>is_comp</th>\n",
       "      <th>True</th>\n",
       "      <th>False</th>\n",
       "      <th>True</th>\n",
       "      <th>False</th>\n",
       "      <th>True</th>\n",
       "      <th>False</th>\n",
       "      <th>False</th>\n",
       "    </tr>\n",
       "    <tr>\n",
       "      <th>depute</th>\n",
       "      <th></th>\n",
       "      <th></th>\n",
       "      <th></th>\n",
       "      <th></th>\n",
       "      <th></th>\n",
       "      <th></th>\n",
       "      <th></th>\n",
       "    </tr>\n",
       "  </thead>\n",
       "  <tbody>\n",
       "    <tr>\n",
       "      <th>Mabrouk Hrizi</th>\n",
       "      <td>1</td>\n",
       "      <td>1</td>\n",
       "      <td>1</td>\n",
       "      <td>1</td>\n",
       "      <td>1</td>\n",
       "      <td>1</td>\n",
       "      <td>1</td>\n",
       "    </tr>\n",
       "    <tr>\n",
       "      <th>Hela Omrane</th>\n",
       "      <td>1</td>\n",
       "      <td>1</td>\n",
       "      <td>1</td>\n",
       "      <td>1</td>\n",
       "      <td>1</td>\n",
       "      <td>1</td>\n",
       "      <td>1</td>\n",
       "    </tr>\n",
       "    <tr>\n",
       "      <th>Ons Hattab</th>\n",
       "      <td>1</td>\n",
       "      <td>1</td>\n",
       "      <td>1</td>\n",
       "      <td>1</td>\n",
       "      <td>1</td>\n",
       "      <td>1</td>\n",
       "      <td>1</td>\n",
       "    </tr>\n",
       "    <tr>\n",
       "      <th>Lamia Gharbi</th>\n",
       "      <td>1</td>\n",
       "      <td>1</td>\n",
       "      <td>1</td>\n",
       "      <td>1</td>\n",
       "      <td>1</td>\n",
       "      <td>1</td>\n",
       "      <td>1</td>\n",
       "    </tr>\n",
       "    <tr>\n",
       "      <th>Imed Khemiri</th>\n",
       "      <td>1</td>\n",
       "      <td>1</td>\n",
       "      <td>1</td>\n",
       "      <td>1</td>\n",
       "      <td>1</td>\n",
       "      <td>1</td>\n",
       "      <td>1</td>\n",
       "    </tr>\n",
       "  </tbody>\n",
       "</table>\n",
       "</div>"
      ],
      "text/plain": [
       "year           2015  2016        2017        2018  2019\n",
       "is_comp       True  False True  False True  False False\n",
       "depute                                                 \n",
       "Mabrouk Hrizi     1     1     1     1     1     1     1\n",
       "Hela Omrane       1     1     1     1     1     1     1\n",
       "Ons Hattab        1     1     1     1     1     1     1\n",
       "Lamia Gharbi      1     1     1     1     1     1     1\n",
       "Imed Khemiri      1     1     1     1     1     1     1"
      ]
     },
     "execution_count": 11,
     "metadata": {},
     "output_type": "execute_result"
    }
   ],
   "source": [
    "is_mp_by_year.sample(5)"
   ]
  },
  {
   "cell_type": "markdown",
   "metadata": {},
   "source": [
    "### 2016 T"
   ]
  },
  {
   "cell_type": "markdown",
   "metadata": {},
   "source": [
    "First, we investigate the issue of having 219 MPs in 2016 T."
   ]
  },
  {
   "cell_type": "code",
   "execution_count": 12,
   "metadata": {},
   "outputs": [],
   "source": [
    "is_mp_16 = is_mp_by_year[[(2016, True), (2016, False)]]"
   ]
  },
  {
   "cell_type": "markdown",
   "metadata": {},
   "source": [
    "List of MPs who joined on 2016 T"
   ]
  },
  {
   "cell_type": "code",
   "execution_count": 13,
   "metadata": {},
   "outputs": [
    {
     "data": {
      "text/html": [
       "<div>\n",
       "<style scoped>\n",
       "    .dataframe tbody tr th:only-of-type {\n",
       "        vertical-align: middle;\n",
       "    }\n",
       "\n",
       "    .dataframe tbody tr th {\n",
       "        vertical-align: top;\n",
       "    }\n",
       "\n",
       "    .dataframe thead th {\n",
       "        text-align: right;\n",
       "    }\n",
       "</style>\n",
       "<table border=\"1\" class=\"dataframe\">\n",
       "  <thead>\n",
       "    <tr style=\"text-align: right;\">\n",
       "      <th></th>\n",
       "      <th>depute</th>\n",
       "    </tr>\n",
       "  </thead>\n",
       "  <tbody>\n",
       "    <tr>\n",
       "      <th>0</th>\n",
       "      <td>Abdelouahab Ouerfelli</td>\n",
       "    </tr>\n",
       "    <tr>\n",
       "      <th>1</th>\n",
       "      <td>Faten  Oueslati</td>\n",
       "    </tr>\n",
       "    <tr>\n",
       "      <th>2</th>\n",
       "      <td>Heger Ben Cheikh Ahmed</td>\n",
       "    </tr>\n",
       "    <tr>\n",
       "      <th>3</th>\n",
       "      <td>Karima  Taggaz</td>\n",
       "    </tr>\n",
       "    <tr>\n",
       "      <th>4</th>\n",
       "      <td>Lamia Dridi</td>\n",
       "    </tr>\n",
       "    <tr>\n",
       "      <th>5</th>\n",
       "      <td>Marouan Falfel</td>\n",
       "    </tr>\n",
       "    <tr>\n",
       "      <th>6</th>\n",
       "      <td>Mohamed Abdellaoui</td>\n",
       "    </tr>\n",
       "    <tr>\n",
       "      <th>7</th>\n",
       "      <td>Olfa Jouini</td>\n",
       "    </tr>\n",
       "  </tbody>\n",
       "</table>\n",
       "</div>"
      ],
      "text/plain": [
       "                   depute\n",
       "0   Abdelouahab Ouerfelli\n",
       "1         Faten  Oueslati\n",
       "2  Heger Ben Cheikh Ahmed\n",
       "3          Karima  Taggaz\n",
       "4             Lamia Dridi\n",
       "5          Marouan Falfel\n",
       "6      Mohamed Abdellaoui\n",
       "7             Olfa Jouini"
      ]
     },
     "execution_count": 13,
     "metadata": {},
     "output_type": "execute_result"
    }
   ],
   "source": [
    "is_mp_16.pipe(\n",
    "    lambda df: df.loc[(df[(2016, False)] == 0) & (df[(2016, True)] == 1)]\n",
    ").reset_index()[\"depute\"].to_frame()"
   ]
  },
  {
   "cell_type": "markdown",
   "metadata": {},
   "source": [
    "List of MPs who left on 2016 T"
   ]
  },
  {
   "cell_type": "code",
   "execution_count": 14,
   "metadata": {},
   "outputs": [
    {
     "data": {
      "text/html": [
       "<div>\n",
       "<style scoped>\n",
       "    .dataframe tbody tr th:only-of-type {\n",
       "        vertical-align: middle;\n",
       "    }\n",
       "\n",
       "    .dataframe tbody tr th {\n",
       "        vertical-align: top;\n",
       "    }\n",
       "\n",
       "    .dataframe thead th {\n",
       "        text-align: right;\n",
       "    }\n",
       "</style>\n",
       "<table border=\"1\" class=\"dataframe\">\n",
       "  <thead>\n",
       "    <tr style=\"text-align: right;\">\n",
       "      <th></th>\n",
       "      <th>depute</th>\n",
       "    </tr>\n",
       "  </thead>\n",
       "  <tbody>\n",
       "    <tr>\n",
       "      <th>0</th>\n",
       "      <td>Iyad Dahmani</td>\n",
       "    </tr>\n",
       "    <tr>\n",
       "      <th>1</th>\n",
       "      <td>Khaled Chouket</td>\n",
       "    </tr>\n",
       "    <tr>\n",
       "      <th>2</th>\n",
       "      <td>Mehdi Ben Gharbia</td>\n",
       "    </tr>\n",
       "    <tr>\n",
       "      <th>3</th>\n",
       "      <td>Mohsen Hssan</td>\n",
       "    </tr>\n",
       "    <tr>\n",
       "      <th>4</th>\n",
       "      <td>Riadh Mouakhar</td>\n",
       "    </tr>\n",
       "    <tr>\n",
       "      <th>5</th>\n",
       "      <td>Sayida Ounissi</td>\n",
       "    </tr>\n",
       "  </tbody>\n",
       "</table>\n",
       "</div>"
      ],
      "text/plain": [
       "              depute\n",
       "0       Iyad Dahmani\n",
       "1     Khaled Chouket\n",
       "2  Mehdi Ben Gharbia\n",
       "3       Mohsen Hssan\n",
       "4     Riadh Mouakhar\n",
       "5     Sayida Ounissi"
      ]
     },
     "execution_count": 14,
     "metadata": {},
     "output_type": "execute_result"
    }
   ],
   "source": [
    "is_mp_16.pipe(\n",
    "    lambda df: df.loc[(df[(2016, False)] == 1) & (df[(2016, True)] == 0)]\n",
    ").reset_index()[\"depute\"].to_frame()"
   ]
  },
  {
   "cell_type": "markdown",
   "metadata": {},
   "source": [
    "### 2017 T"
   ]
  },
  {
   "cell_type": "code",
   "execution_count": 15,
   "metadata": {},
   "outputs": [],
   "source": [
    "is_mp_17 = is_mp_by_year[[(2017, True), (2017, False)]]"
   ]
  },
  {
   "cell_type": "markdown",
   "metadata": {},
   "source": [
    "List of MPs who joined on 2017 T"
   ]
  },
  {
   "cell_type": "code",
   "execution_count": 16,
   "metadata": {},
   "outputs": [
    {
     "data": {
      "text/html": [
       "<div>\n",
       "<style scoped>\n",
       "    .dataframe tbody tr th:only-of-type {\n",
       "        vertical-align: middle;\n",
       "    }\n",
       "\n",
       "    .dataframe tbody tr th {\n",
       "        vertical-align: top;\n",
       "    }\n",
       "\n",
       "    .dataframe thead th {\n",
       "        text-align: right;\n",
       "    }\n",
       "</style>\n",
       "<table border=\"1\" class=\"dataframe\">\n",
       "  <thead>\n",
       "    <tr style=\"text-align: right;\">\n",
       "      <th></th>\n",
       "      <th>depute</th>\n",
       "    </tr>\n",
       "  </thead>\n",
       "  <tbody>\n",
       "    <tr>\n",
       "      <th>0</th>\n",
       "      <td>Abdelouahab Ouerfelli</td>\n",
       "    </tr>\n",
       "    <tr>\n",
       "      <th>1</th>\n",
       "      <td>Amira Zoukari</td>\n",
       "    </tr>\n",
       "    <tr>\n",
       "      <th>2</th>\n",
       "      <td>Mohamed Abdellaoui</td>\n",
       "    </tr>\n",
       "  </tbody>\n",
       "</table>\n",
       "</div>"
      ],
      "text/plain": [
       "                  depute\n",
       "0  Abdelouahab Ouerfelli\n",
       "1          Amira Zoukari\n",
       "2     Mohamed Abdellaoui"
      ]
     },
     "execution_count": 16,
     "metadata": {},
     "output_type": "execute_result"
    }
   ],
   "source": [
    "is_mp_17.pipe(\n",
    "    lambda df: df.loc[(df[(2017, True)] == 1) & (df[(2017, False)] == 0),]\n",
    ").reset_index()[\"depute\"].to_frame()"
   ]
  },
  {
   "cell_type": "markdown",
   "metadata": {},
   "source": [
    "List of MPs who left on 2017 T"
   ]
  },
  {
   "cell_type": "code",
   "execution_count": 17,
   "metadata": {},
   "outputs": [
    {
     "data": {
      "text/html": [
       "<div>\n",
       "<style scoped>\n",
       "    .dataframe tbody tr th:only-of-type {\n",
       "        vertical-align: middle;\n",
       "    }\n",
       "\n",
       "    .dataframe tbody tr th {\n",
       "        vertical-align: top;\n",
       "    }\n",
       "\n",
       "    .dataframe thead th {\n",
       "        text-align: right;\n",
       "    }\n",
       "</style>\n",
       "<table border=\"1\" class=\"dataframe\">\n",
       "  <thead>\n",
       "    <tr style=\"text-align: right;\">\n",
       "      <th></th>\n",
       "      <th>depute</th>\n",
       "    </tr>\n",
       "  </thead>\n",
       "  <tbody>\n",
       "    <tr>\n",
       "      <th>0</th>\n",
       "      <td>Faten  Oueslati</td>\n",
       "    </tr>\n",
       "    <tr>\n",
       "      <th>1</th>\n",
       "      <td>Hatem Ferjani</td>\n",
       "    </tr>\n",
       "    <tr>\n",
       "      <th>2</th>\n",
       "      <td>Salem Hamdi</td>\n",
       "    </tr>\n",
       "    <tr>\n",
       "      <th>3</th>\n",
       "      <td>Taher Battikh</td>\n",
       "    </tr>\n",
       "  </tbody>\n",
       "</table>\n",
       "</div>"
      ],
      "text/plain": [
       "            depute\n",
       "0  Faten  Oueslati\n",
       "1    Hatem Ferjani\n",
       "2      Salem Hamdi\n",
       "3    Taher Battikh"
      ]
     },
     "execution_count": 17,
     "metadata": {},
     "output_type": "execute_result"
    }
   ],
   "source": [
    "is_mp_17.pipe(\n",
    "    lambda df: df.loc[(df[(2017, True)] == 0) & (df[(2017, False)] == 1),]\n",
    ").reset_index()[\"depute\"].to_frame()"
   ]
  },
  {
   "cell_type": "markdown",
   "metadata": {},
   "source": [
    "## Plots"
   ]
  },
  {
   "cell_type": "markdown",
   "metadata": {},
   "source": [
    "For these plot, the interest is only on the final vote, we filter the data frame for this law."
   ]
  },
  {
   "cell_type": "code",
   "execution_count": 18,
   "metadata": {},
   "outputs": [],
   "source": [
    "plot_df = tidy_fr.pipe(lambda df: df.loc[df.loi.str.contains(\"totalité\"),]).drop(columns=[\"loi\"])"
   ]
  },
  {
   "cell_type": "code",
   "execution_count": 19,
   "metadata": {},
   "outputs": [
    {
     "data": {
      "text/html": [
       "<div>\n",
       "<style scoped>\n",
       "    .dataframe tbody tr th:only-of-type {\n",
       "        vertical-align: middle;\n",
       "    }\n",
       "\n",
       "    .dataframe tbody tr th {\n",
       "        vertical-align: top;\n",
       "    }\n",
       "\n",
       "    .dataframe thead th {\n",
       "        text-align: right;\n",
       "    }\n",
       "</style>\n",
       "<table border=\"1\" class=\"dataframe\">\n",
       "  <thead>\n",
       "    <tr style=\"text-align: right;\">\n",
       "      <th></th>\n",
       "      <th>depute</th>\n",
       "      <th>bloc</th>\n",
       "      <th>vote</th>\n",
       "      <th>year</th>\n",
       "      <th>is_comp</th>\n",
       "    </tr>\n",
       "  </thead>\n",
       "  <tbody>\n",
       "    <tr>\n",
       "      <th>35782</th>\n",
       "      <td>Leila Hamrouni</td>\n",
       "      <td>Coalition nationale</td>\n",
       "      <td>pour</td>\n",
       "      <td>2019</td>\n",
       "      <td>False</td>\n",
       "    </tr>\n",
       "    <tr>\n",
       "      <th>40976</th>\n",
       "      <td>Abdelmoumen Belanes</td>\n",
       "      <td>Aucun bloc</td>\n",
       "      <td>contre</td>\n",
       "      <td>2017</td>\n",
       "      <td>False</td>\n",
       "    </tr>\n",
       "    <tr>\n",
       "      <th>1152</th>\n",
       "      <td>Haykel Belgacem</td>\n",
       "      <td>Aucun bloc</td>\n",
       "      <td>contre</td>\n",
       "      <td>2017</td>\n",
       "      <td>True</td>\n",
       "    </tr>\n",
       "    <tr>\n",
       "      <th>1260</th>\n",
       "      <td>Adnane Hajji</td>\n",
       "      <td>Allégeance à la Patrie</td>\n",
       "      <td>contre</td>\n",
       "      <td>2016</td>\n",
       "      <td>True</td>\n",
       "    </tr>\n",
       "    <tr>\n",
       "      <th>1146</th>\n",
       "      <td>Mohamed Anouar Adhar</td>\n",
       "      <td>Coalition nationale</td>\n",
       "      <td>pour</td>\n",
       "      <td>2016</td>\n",
       "      <td>True</td>\n",
       "    </tr>\n",
       "  </tbody>\n",
       "</table>\n",
       "</div>"
      ],
      "text/plain": [
       "                     depute                    bloc    vote  year  is_comp\n",
       "35782        Leila Hamrouni     Coalition nationale    pour  2019    False\n",
       "40976   Abdelmoumen Belanes              Aucun bloc  contre  2017    False\n",
       "1152        Haykel Belgacem              Aucun bloc  contre  2017     True\n",
       "1260           Adnane Hajji  Allégeance à la Patrie  contre  2016     True\n",
       "1146   Mohamed Anouar Adhar     Coalition nationale    pour  2016     True"
      ]
     },
     "execution_count": 19,
     "metadata": {},
     "output_type": "execute_result"
    }
   ],
   "source": [
    "plot_df.sample(5)"
   ]
  },
  {
   "cell_type": "markdown",
   "metadata": {},
   "source": [
    "### The vote distribution per finance law per block"
   ]
  },
  {
   "cell_type": "code",
   "execution_count": 20,
   "metadata": {},
   "outputs": [],
   "source": [
    "vdb = (\n",
    "    plot_df.pivot_table(\n",
    "        index=[\"year\", \"is_comp\", \"bloc\", \"vote\"], aggfunc=\"count\", fill_value=0\n",
    "    )\n",
    "    .reset_index()\n",
    "    .pipe(\n",
    "        lambda df: df.assign(\n",
    "            law=df.year.astype(\"str\") + \"-\" + df.is_comp.astype(\"int\").astype(\"str\")\n",
    "        )\n",
    "    )\n",
    "    .pipe(\n",
    "        lambda df: pd.crosstab(\n",
    "            index=[df[\"law\"], df[\"bloc\"]],\n",
    "            columns=df[\"vote\"],\n",
    "            values=df[\"depute\"],\n",
    "            aggfunc=\"sum\",\n",
    "        )\n",
    "        .fillna(0)\n",
    "        .pipe(lambda df: df.apply(lambda df: np.round(100 * df / df.sum()), axis=1))\n",
    "    )\n",
    "    .reset_index()\n",
    "    .melt(\n",
    "        id_vars=[\"law\", \"bloc\"],\n",
    "        value_vars=[\"X\", \"pour\", \"contre\", \"abstenu\"],\n",
    "        value_name=\"percentage\",\n",
    "    )\n",
    ")"
   ]
  },
  {
   "cell_type": "code",
   "execution_count": 21,
   "metadata": {},
   "outputs": [
    {
     "data": {
      "text/html": [
       "<div>\n",
       "<style scoped>\n",
       "    .dataframe tbody tr th:only-of-type {\n",
       "        vertical-align: middle;\n",
       "    }\n",
       "\n",
       "    .dataframe tbody tr th {\n",
       "        vertical-align: top;\n",
       "    }\n",
       "\n",
       "    .dataframe thead th {\n",
       "        text-align: right;\n",
       "    }\n",
       "</style>\n",
       "<table border=\"1\" class=\"dataframe\">\n",
       "  <thead>\n",
       "    <tr style=\"text-align: right;\">\n",
       "      <th></th>\n",
       "      <th>law</th>\n",
       "      <th>bloc</th>\n",
       "      <th>vote</th>\n",
       "      <th>percentage</th>\n",
       "    </tr>\n",
       "  </thead>\n",
       "  <tbody>\n",
       "    <tr>\n",
       "      <th>144</th>\n",
       "      <td>2019-0</td>\n",
       "      <td>Coalition nationale</td>\n",
       "      <td>contre</td>\n",
       "      <td>0.0</td>\n",
       "    </tr>\n",
       "    <tr>\n",
       "      <th>7</th>\n",
       "      <td>2016-0</td>\n",
       "      <td>Allégeance à la Patrie</td>\n",
       "      <td>X</td>\n",
       "      <td>44.0</td>\n",
       "    </tr>\n",
       "    <tr>\n",
       "      <th>89</th>\n",
       "      <td>2018-0</td>\n",
       "      <td>Mouvement Ennahdha</td>\n",
       "      <td>pour</td>\n",
       "      <td>76.0</td>\n",
       "    </tr>\n",
       "    <tr>\n",
       "      <th>192</th>\n",
       "      <td>2019-0</td>\n",
       "      <td>Bloc Démocrate</td>\n",
       "      <td>abstenu</td>\n",
       "      <td>0.0</td>\n",
       "    </tr>\n",
       "    <tr>\n",
       "      <th>171</th>\n",
       "      <td>2017-0</td>\n",
       "      <td>Bloc Démocrate</td>\n",
       "      <td>abstenu</td>\n",
       "      <td>0.0</td>\n",
       "    </tr>\n",
       "  </tbody>\n",
       "</table>\n",
       "</div>"
      ],
      "text/plain": [
       "        law                    bloc     vote  percentage\n",
       "144  2019-0     Coalition nationale   contre         0.0\n",
       "7    2016-0  Allégeance à la Patrie        X        44.0\n",
       "89   2018-0      Mouvement Ennahdha     pour        76.0\n",
       "192  2019-0          Bloc Démocrate  abstenu         0.0\n",
       "171  2017-0          Bloc Démocrate  abstenu         0.0"
      ]
     },
     "execution_count": 21,
     "metadata": {},
     "output_type": "execute_result"
    }
   ],
   "source": [
    "vdb.sample(5)"
   ]
  },
  {
   "cell_type": "markdown",
   "metadata": {},
   "source": [
    "Testing that the sum of vote percentage per law per block is 100%"
   ]
  },
  {
   "cell_type": "code",
   "execution_count": 33,
   "metadata": {},
   "outputs": [],
   "source": [
    "w = 1200\n",
    "h = w / (16 / 9)"
   ]
  },
  {
   "cell_type": "markdown",
   "metadata": {},
   "source": [
    "### Distribution of votes across finance laws"
   ]
  },
  {
   "cell_type": "code",
   "execution_count": 23,
   "metadata": {},
   "outputs": [],
   "source": [
    "bars = (\n",
    "    alt.Chart(vdb)\n",
    "    .mark_bar()\n",
    "    .encode(\n",
    "        y=alt.Y(\"bloc\"),\n",
    "        x=alt.X(\"percentage\"),\n",
    "        color=\"vote\",\n",
    "        order=\"vote\",\n",
    "        tooltip=[\"bloc\", \"vote\", \"percentage\"],\n",
    "    )\n",
    ")\n",
    "text = (\n",
    "    alt.Chart(vdb)\n",
    "    .mark_text(color=\"white\")\n",
    "    .encode(\n",
    "        y=alt.Y(\"bloc\"),\n",
    "        x=alt.X(\"percentage\"),\n",
    "        text=alt.Text(\"percentage\", format=\".1%\",),\n",
    "    )\n",
    ")"
   ]
  },
  {
   "cell_type": "code",
   "execution_count": 24,
   "metadata": {},
   "outputs": [
    {
     "data": {
      "application/vnd.vegalite.v3+json": {
       "$schema": "https://vega.github.io/schema/vega-lite/v3.4.0.json",
       "columns": 3,
       "config": {
        "mark": {
         "tooltip": null
        },
        "view": {
         "height": 300,
         "width": 400
        }
       },
       "data": {
        "name": "data-129c590972f0a562d17bf9ecb1a2a39a"
       },
       "datasets": {
        "data-129c590972f0a562d17bf9ecb1a2a39a": [
         {
          "bloc": "Allégeance à la Patrie",
          "law": "2015-1",
          "percentage": 44,
          "vote": "X"
         },
         {
          "bloc": "Aucun bloc",
          "law": "2015-1",
          "percentage": 23,
          "vote": "X"
         },
         {
          "bloc": "Bloc Al Horra du Mouvement Machrouu Tounes",
          "law": "2015-1",
          "percentage": 17,
          "vote": "X"
         },
         {
          "bloc": "Bloc Démocrate",
          "law": "2015-1",
          "percentage": 17,
          "vote": "X"
         },
         {
          "bloc": "Coalition nationale",
          "law": "2015-1",
          "percentage": 30,
          "vote": "X"
         },
         {
          "bloc": "Mouvement Ennahdha",
          "law": "2015-1",
          "percentage": 27,
          "vote": "X"
         },
         {
          "bloc": "Mouvement Nidaa Tounes",
          "law": "2015-1",
          "percentage": 53,
          "vote": "X"
         },
         {
          "bloc": "Allégeance à la Patrie",
          "law": "2016-0",
          "percentage": 44,
          "vote": "X"
         },
         {
          "bloc": "Aucun bloc",
          "law": "2016-0",
          "percentage": 49,
          "vote": "X"
         },
         {
          "bloc": "Bloc Al Horra du Mouvement Machrouu Tounes",
          "law": "2016-0",
          "percentage": 15,
          "vote": "X"
         },
         {
          "bloc": "Bloc Démocrate",
          "law": "2016-0",
          "percentage": 100,
          "vote": "X"
         },
         {
          "bloc": "Coalition nationale",
          "law": "2016-0",
          "percentage": 15,
          "vote": "X"
         },
         {
          "bloc": "Mouvement Ennahdha",
          "law": "2016-0",
          "percentage": 18,
          "vote": "X"
         },
         {
          "bloc": "Mouvement Nidaa Tounes",
          "law": "2016-0",
          "percentage": 32,
          "vote": "X"
         },
         {
          "bloc": "Allégeance à la Patrie",
          "law": "2016-1",
          "percentage": 60,
          "vote": "X"
         },
         {
          "bloc": "Aucun bloc",
          "law": "2016-1",
          "percentage": 50,
          "vote": "X"
         },
         {
          "bloc": "Bloc Al Horra du Mouvement Machrouu Tounes",
          "law": "2016-1",
          "percentage": 54,
          "vote": "X"
         },
         {
          "bloc": "Bloc Démocrate",
          "law": "2016-1",
          "percentage": 17,
          "vote": "X"
         },
         {
          "bloc": "Coalition nationale",
          "law": "2016-1",
          "percentage": 65,
          "vote": "X"
         },
         {
          "bloc": "Mouvement Ennahdha",
          "law": "2016-1",
          "percentage": 36,
          "vote": "X"
         },
         {
          "bloc": "Mouvement Nidaa Tounes",
          "law": "2016-1",
          "percentage": 39,
          "vote": "X"
         },
         {
          "bloc": "Allégeance à la Patrie",
          "law": "2017-0",
          "percentage": 22,
          "vote": "X"
         },
         {
          "bloc": "Aucun bloc",
          "law": "2017-0",
          "percentage": 26,
          "vote": "X"
         },
         {
          "bloc": "Bloc Al Horra du Mouvement Machrouu Tounes",
          "law": "2017-0",
          "percentage": 23,
          "vote": "X"
         },
         {
          "bloc": "Bloc Démocrate",
          "law": "2017-0",
          "percentage": 25,
          "vote": "X"
         },
         {
          "bloc": "Coalition nationale",
          "law": "2017-0",
          "percentage": 19,
          "vote": "X"
         },
         {
          "bloc": "Mouvement Ennahdha",
          "law": "2017-0",
          "percentage": 18,
          "vote": "X"
         },
         {
          "bloc": "Mouvement Nidaa Tounes",
          "law": "2017-0",
          "percentage": 20,
          "vote": "X"
         },
         {
          "bloc": "Allégeance à la Patrie",
          "law": "2017-1",
          "percentage": 80,
          "vote": "X"
         },
         {
          "bloc": "Aucun bloc",
          "law": "2017-1",
          "percentage": 50,
          "vote": "X"
         },
         {
          "bloc": "Bloc Al Horra du Mouvement Machrouu Tounes",
          "law": "2017-1",
          "percentage": 46,
          "vote": "X"
         },
         {
          "bloc": "Bloc Démocrate",
          "law": "2017-1",
          "percentage": 50,
          "vote": "X"
         },
         {
          "bloc": "Coalition nationale",
          "law": "2017-1",
          "percentage": 53,
          "vote": "X"
         },
         {
          "bloc": "Mouvement Ennahdha",
          "law": "2017-1",
          "percentage": 24,
          "vote": "X"
         },
         {
          "bloc": "Mouvement Nidaa Tounes",
          "law": "2017-1",
          "percentage": 41,
          "vote": "X"
         },
         {
          "bloc": "Allégeance à la Patrie",
          "law": "2018-0",
          "percentage": 40,
          "vote": "X"
         },
         {
          "bloc": "Aucun bloc",
          "law": "2018-0",
          "percentage": 24,
          "vote": "X"
         },
         {
          "bloc": "Bloc Al Horra du Mouvement Machrouu Tounes",
          "law": "2018-0",
          "percentage": 54,
          "vote": "X"
         },
         {
          "bloc": "Bloc Démocrate",
          "law": "2018-0",
          "percentage": 33,
          "vote": "X"
         },
         {
          "bloc": "Coalition nationale",
          "law": "2018-0",
          "percentage": 19,
          "vote": "X"
         },
         {
          "bloc": "Mouvement Ennahdha",
          "law": "2018-0",
          "percentage": 21,
          "vote": "X"
         },
         {
          "bloc": "Mouvement Nidaa Tounes",
          "law": "2018-0",
          "percentage": 11,
          "vote": "X"
         },
         {
          "bloc": "Allégeance à la Patrie",
          "law": "2019-0",
          "percentage": 30,
          "vote": "X"
         },
         {
          "bloc": "Aucun bloc",
          "law": "2019-0",
          "percentage": 35,
          "vote": "X"
         },
         {
          "bloc": "Bloc Al Horra du Mouvement Machrouu Tounes",
          "law": "2019-0",
          "percentage": 27,
          "vote": "X"
         },
         {
          "bloc": "Bloc Démocrate",
          "law": "2019-0",
          "percentage": 17,
          "vote": "X"
         },
         {
          "bloc": "Coalition nationale",
          "law": "2019-0",
          "percentage": 16,
          "vote": "X"
         },
         {
          "bloc": "Mouvement Ennahdha",
          "law": "2019-0",
          "percentage": 15,
          "vote": "X"
         },
         {
          "bloc": "Mouvement Nidaa Tounes",
          "law": "2019-0",
          "percentage": 54,
          "vote": "X"
         },
         {
          "bloc": "Allégeance à la Patrie",
          "law": "2015-1",
          "percentage": 33,
          "vote": "pour"
         },
         {
          "bloc": "Aucun bloc",
          "law": "2015-1",
          "percentage": 48,
          "vote": "pour"
         },
         {
          "bloc": "Bloc Al Horra du Mouvement Machrouu Tounes",
          "law": "2015-1",
          "percentage": 83,
          "vote": "pour"
         },
         {
          "bloc": "Bloc Démocrate",
          "law": "2015-1",
          "percentage": 17,
          "vote": "pour"
         },
         {
          "bloc": "Coalition nationale",
          "law": "2015-1",
          "percentage": 68,
          "vote": "pour"
         },
         {
          "bloc": "Mouvement Ennahdha",
          "law": "2015-1",
          "percentage": 71,
          "vote": "pour"
         },
         {
          "bloc": "Mouvement Nidaa Tounes",
          "law": "2015-1",
          "percentage": 41,
          "vote": "pour"
         },
         {
          "bloc": "Allégeance à la Patrie",
          "law": "2016-0",
          "percentage": 56,
          "vote": "pour"
         },
         {
          "bloc": "Aucun bloc",
          "law": "2016-0",
          "percentage": 47,
          "vote": "pour"
         },
         {
          "bloc": "Bloc Al Horra du Mouvement Machrouu Tounes",
          "law": "2016-0",
          "percentage": 85,
          "vote": "pour"
         },
         {
          "bloc": "Bloc Démocrate",
          "law": "2016-0",
          "percentage": 0,
          "vote": "pour"
         },
         {
          "bloc": "Coalition nationale",
          "law": "2016-0",
          "percentage": 80,
          "vote": "pour"
         },
         {
          "bloc": "Mouvement Ennahdha",
          "law": "2016-0",
          "percentage": 77,
          "vote": "pour"
         },
         {
          "bloc": "Mouvement Nidaa Tounes",
          "law": "2016-0",
          "percentage": 68,
          "vote": "pour"
         },
         {
          "bloc": "Allégeance à la Patrie",
          "law": "2016-1",
          "percentage": 30,
          "vote": "pour"
         },
         {
          "bloc": "Aucun bloc",
          "law": "2016-1",
          "percentage": 26,
          "vote": "pour"
         },
         {
          "bloc": "Bloc Al Horra du Mouvement Machrouu Tounes",
          "law": "2016-1",
          "percentage": 46,
          "vote": "pour"
         },
         {
          "bloc": "Bloc Démocrate",
          "law": "2016-1",
          "percentage": 8,
          "vote": "pour"
         },
         {
          "bloc": "Coalition nationale",
          "law": "2016-1",
          "percentage": 35,
          "vote": "pour"
         },
         {
          "bloc": "Mouvement Ennahdha",
          "law": "2016-1",
          "percentage": 63,
          "vote": "pour"
         },
         {
          "bloc": "Mouvement Nidaa Tounes",
          "law": "2016-1",
          "percentage": 61,
          "vote": "pour"
         },
         {
          "bloc": "Allégeance à la Patrie",
          "law": "2017-0",
          "percentage": 44,
          "vote": "pour"
         },
         {
          "bloc": "Aucun bloc",
          "law": "2017-0",
          "percentage": 26,
          "vote": "pour"
         },
         {
          "bloc": "Bloc Al Horra du Mouvement Machrouu Tounes",
          "law": "2017-0",
          "percentage": 8,
          "vote": "pour"
         },
         {
          "bloc": "Bloc Démocrate",
          "law": "2017-0",
          "percentage": 0,
          "vote": "pour"
         },
         {
          "bloc": "Coalition nationale",
          "law": "2017-0",
          "percentage": 67,
          "vote": "pour"
         },
         {
          "bloc": "Mouvement Ennahdha",
          "law": "2017-0",
          "percentage": 82,
          "vote": "pour"
         },
         {
          "bloc": "Mouvement Nidaa Tounes",
          "law": "2017-0",
          "percentage": 66,
          "vote": "pour"
         },
         {
          "bloc": "Allégeance à la Patrie",
          "law": "2017-1",
          "percentage": 10,
          "vote": "pour"
         },
         {
          "bloc": "Aucun bloc",
          "law": "2017-1",
          "percentage": 26,
          "vote": "pour"
         },
         {
          "bloc": "Bloc Al Horra du Mouvement Machrouu Tounes",
          "law": "2017-1",
          "percentage": 54,
          "vote": "pour"
         },
         {
          "bloc": "Bloc Démocrate",
          "law": "2017-1",
          "percentage": 8,
          "vote": "pour"
         },
         {
          "bloc": "Coalition nationale",
          "law": "2017-1",
          "percentage": 44,
          "vote": "pour"
         },
         {
          "bloc": "Mouvement Ennahdha",
          "law": "2017-1",
          "percentage": 76,
          "vote": "pour"
         },
         {
          "bloc": "Mouvement Nidaa Tounes",
          "law": "2017-1",
          "percentage": 57,
          "vote": "pour"
         },
         {
          "bloc": "Allégeance à la Patrie",
          "law": "2018-0",
          "percentage": 30,
          "vote": "pour"
         },
         {
          "bloc": "Aucun bloc",
          "law": "2018-0",
          "percentage": 35,
          "vote": "pour"
         },
         {
          "bloc": "Bloc Al Horra du Mouvement Machrouu Tounes",
          "law": "2018-0",
          "percentage": 8,
          "vote": "pour"
         },
         {
          "bloc": "Bloc Démocrate",
          "law": "2018-0",
          "percentage": 0,
          "vote": "pour"
         },
         {
          "bloc": "Coalition nationale",
          "law": "2018-0",
          "percentage": 74,
          "vote": "pour"
         },
         {
          "bloc": "Mouvement Ennahdha",
          "law": "2018-0",
          "percentage": 76,
          "vote": "pour"
         },
         {
          "bloc": "Mouvement Nidaa Tounes",
          "law": "2018-0",
          "percentage": 89,
          "vote": "pour"
         },
         {
          "bloc": "Allégeance à la Patrie",
          "law": "2019-0",
          "percentage": 20,
          "vote": "pour"
         },
         {
          "bloc": "Aucun bloc",
          "law": "2019-0",
          "percentage": 6,
          "vote": "pour"
         },
         {
          "bloc": "Bloc Al Horra du Mouvement Machrouu Tounes",
          "law": "2019-0",
          "percentage": 73,
          "vote": "pour"
         },
         {
          "bloc": "Bloc Démocrate",
          "law": "2019-0",
          "percentage": 0,
          "vote": "pour"
         },
         {
          "bloc": "Coalition nationale",
          "law": "2019-0",
          "percentage": 84,
          "vote": "pour"
         },
         {
          "bloc": "Mouvement Ennahdha",
          "law": "2019-0",
          "percentage": 85,
          "vote": "pour"
         },
         {
          "bloc": "Mouvement Nidaa Tounes",
          "law": "2019-0",
          "percentage": 8,
          "vote": "pour"
         },
         {
          "bloc": "Allégeance à la Patrie",
          "law": "2015-1",
          "percentage": 22,
          "vote": "contre"
         },
         {
          "bloc": "Aucun bloc",
          "law": "2015-1",
          "percentage": 27,
          "vote": "contre"
         },
         {
          "bloc": "Bloc Al Horra du Mouvement Machrouu Tounes",
          "law": "2015-1",
          "percentage": 0,
          "vote": "contre"
         },
         {
          "bloc": "Bloc Démocrate",
          "law": "2015-1",
          "percentage": 67,
          "vote": "contre"
         },
         {
          "bloc": "Coalition nationale",
          "law": "2015-1",
          "percentage": 2,
          "vote": "contre"
         },
         {
          "bloc": "Mouvement Ennahdha",
          "law": "2015-1",
          "percentage": 0,
          "vote": "contre"
         },
         {
          "bloc": "Mouvement Nidaa Tounes",
          "law": "2015-1",
          "percentage": 3,
          "vote": "contre"
         },
         {
          "bloc": "Allégeance à la Patrie",
          "law": "2016-0",
          "percentage": 0,
          "vote": "contre"
         },
         {
          "bloc": "Aucun bloc",
          "law": "2016-0",
          "percentage": 0,
          "vote": "contre"
         },
         {
          "bloc": "Bloc Al Horra du Mouvement Machrouu Tounes",
          "law": "2016-0",
          "percentage": 0,
          "vote": "contre"
         },
         {
          "bloc": "Bloc Démocrate",
          "law": "2016-0",
          "percentage": 0,
          "vote": "contre"
         },
         {
          "bloc": "Coalition nationale",
          "law": "2016-0",
          "percentage": 0,
          "vote": "contre"
         },
         {
          "bloc": "Mouvement Ennahdha",
          "law": "2016-0",
          "percentage": 0,
          "vote": "contre"
         },
         {
          "bloc": "Mouvement Nidaa Tounes",
          "law": "2016-0",
          "percentage": 0,
          "vote": "contre"
         },
         {
          "bloc": "Allégeance à la Patrie",
          "law": "2016-1",
          "percentage": 10,
          "vote": "contre"
         },
         {
          "bloc": "Aucun bloc",
          "law": "2016-1",
          "percentage": 24,
          "vote": "contre"
         },
         {
          "bloc": "Bloc Al Horra du Mouvement Machrouu Tounes",
          "law": "2016-1",
          "percentage": 0,
          "vote": "contre"
         },
         {
          "bloc": "Bloc Démocrate",
          "law": "2016-1",
          "percentage": 75,
          "vote": "contre"
         },
         {
          "bloc": "Coalition nationale",
          "law": "2016-1",
          "percentage": 0,
          "vote": "contre"
         },
         {
          "bloc": "Mouvement Ennahdha",
          "law": "2016-1",
          "percentage": 0,
          "vote": "contre"
         },
         {
          "bloc": "Mouvement Nidaa Tounes",
          "law": "2016-1",
          "percentage": 0,
          "vote": "contre"
         },
         {
          "bloc": "Allégeance à la Patrie",
          "law": "2017-0",
          "percentage": 33,
          "vote": "contre"
         },
         {
          "bloc": "Aucun bloc",
          "law": "2017-0",
          "percentage": 47,
          "vote": "contre"
         },
         {
          "bloc": "Bloc Al Horra du Mouvement Machrouu Tounes",
          "law": "2017-0",
          "percentage": 69,
          "vote": "contre"
         },
         {
          "bloc": "Bloc Démocrate",
          "law": "2017-0",
          "percentage": 75,
          "vote": "contre"
         },
         {
          "bloc": "Coalition nationale",
          "law": "2017-0",
          "percentage": 9,
          "vote": "contre"
         },
         {
          "bloc": "Mouvement Ennahdha",
          "law": "2017-0",
          "percentage": 0,
          "vote": "contre"
         },
         {
          "bloc": "Mouvement Nidaa Tounes",
          "law": "2017-0",
          "percentage": 14,
          "vote": "contre"
         },
         {
          "bloc": "Allégeance à la Patrie",
          "law": "2017-1",
          "percentage": 0,
          "vote": "contre"
         },
         {
          "bloc": "Aucun bloc",
          "law": "2017-1",
          "percentage": 21,
          "vote": "contre"
         },
         {
          "bloc": "Bloc Al Horra du Mouvement Machrouu Tounes",
          "law": "2017-1",
          "percentage": 0,
          "vote": "contre"
         },
         {
          "bloc": "Bloc Démocrate",
          "law": "2017-1",
          "percentage": 42,
          "vote": "contre"
         },
         {
          "bloc": "Coalition nationale",
          "law": "2017-1",
          "percentage": 0,
          "vote": "contre"
         },
         {
          "bloc": "Mouvement Ennahdha",
          "law": "2017-1",
          "percentage": 0,
          "vote": "contre"
         },
         {
          "bloc": "Mouvement Nidaa Tounes",
          "law": "2017-1",
          "percentage": 0,
          "vote": "contre"
         },
         {
          "bloc": "Allégeance à la Patrie",
          "law": "2018-0",
          "percentage": 0,
          "vote": "contre"
         },
         {
          "bloc": "Aucun bloc",
          "law": "2018-0",
          "percentage": 38,
          "vote": "contre"
         },
         {
          "bloc": "Bloc Al Horra du Mouvement Machrouu Tounes",
          "law": "2018-0",
          "percentage": 0,
          "vote": "contre"
         },
         {
          "bloc": "Bloc Démocrate",
          "law": "2018-0",
          "percentage": 67,
          "vote": "contre"
         },
         {
          "bloc": "Coalition nationale",
          "law": "2018-0",
          "percentage": 0,
          "vote": "contre"
         },
         {
          "bloc": "Mouvement Ennahdha",
          "law": "2018-0",
          "percentage": 0,
          "vote": "contre"
         },
         {
          "bloc": "Mouvement Nidaa Tounes",
          "law": "2018-0",
          "percentage": 0,
          "vote": "contre"
         },
         {
          "bloc": "Allégeance à la Patrie",
          "law": "2019-0",
          "percentage": 20,
          "vote": "contre"
         },
         {
          "bloc": "Aucun bloc",
          "law": "2019-0",
          "percentage": 55,
          "vote": "contre"
         },
         {
          "bloc": "Bloc Al Horra du Mouvement Machrouu Tounes",
          "law": "2019-0",
          "percentage": 0,
          "vote": "contre"
         },
         {
          "bloc": "Bloc Démocrate",
          "law": "2019-0",
          "percentage": 83,
          "vote": "contre"
         },
         {
          "bloc": "Coalition nationale",
          "law": "2019-0",
          "percentage": 0,
          "vote": "contre"
         },
         {
          "bloc": "Mouvement Ennahdha",
          "law": "2019-0",
          "percentage": 0,
          "vote": "contre"
         },
         {
          "bloc": "Mouvement Nidaa Tounes",
          "law": "2019-0",
          "percentage": 19,
          "vote": "contre"
         },
         {
          "bloc": "Allégeance à la Patrie",
          "law": "2015-1",
          "percentage": 0,
          "vote": "abstenu"
         },
         {
          "bloc": "Aucun bloc",
          "law": "2015-1",
          "percentage": 2,
          "vote": "abstenu"
         },
         {
          "bloc": "Bloc Al Horra du Mouvement Machrouu Tounes",
          "law": "2015-1",
          "percentage": 0,
          "vote": "abstenu"
         },
         {
          "bloc": "Bloc Démocrate",
          "law": "2015-1",
          "percentage": 0,
          "vote": "abstenu"
         },
         {
          "bloc": "Coalition nationale",
          "law": "2015-1",
          "percentage": 0,
          "vote": "abstenu"
         },
         {
          "bloc": "Mouvement Ennahdha",
          "law": "2015-1",
          "percentage": 2,
          "vote": "abstenu"
         },
         {
          "bloc": "Mouvement Nidaa Tounes",
          "law": "2015-1",
          "percentage": 3,
          "vote": "abstenu"
         },
         {
          "bloc": "Allégeance à la Patrie",
          "law": "2016-0",
          "percentage": 0,
          "vote": "abstenu"
         },
         {
          "bloc": "Aucun bloc",
          "law": "2016-0",
          "percentage": 5,
          "vote": "abstenu"
         },
         {
          "bloc": "Bloc Al Horra du Mouvement Machrouu Tounes",
          "law": "2016-0",
          "percentage": 0,
          "vote": "abstenu"
         },
         {
          "bloc": "Bloc Démocrate",
          "law": "2016-0",
          "percentage": 0,
          "vote": "abstenu"
         },
         {
          "bloc": "Coalition nationale",
          "law": "2016-0",
          "percentage": 5,
          "vote": "abstenu"
         },
         {
          "bloc": "Mouvement Ennahdha",
          "law": "2016-0",
          "percentage": 5,
          "vote": "abstenu"
         },
         {
          "bloc": "Mouvement Nidaa Tounes",
          "law": "2016-0",
          "percentage": 0,
          "vote": "abstenu"
         },
         {
          "bloc": "Allégeance à la Patrie",
          "law": "2016-1",
          "percentage": 0,
          "vote": "abstenu"
         },
         {
          "bloc": "Aucun bloc",
          "law": "2016-1",
          "percentage": 0,
          "vote": "abstenu"
         },
         {
          "bloc": "Bloc Al Horra du Mouvement Machrouu Tounes",
          "law": "2016-1",
          "percentage": 0,
          "vote": "abstenu"
         },
         {
          "bloc": "Bloc Démocrate",
          "law": "2016-1",
          "percentage": 0,
          "vote": "abstenu"
         },
         {
          "bloc": "Coalition nationale",
          "law": "2016-1",
          "percentage": 0,
          "vote": "abstenu"
         },
         {
          "bloc": "Mouvement Ennahdha",
          "law": "2016-1",
          "percentage": 1,
          "vote": "abstenu"
         },
         {
          "bloc": "Mouvement Nidaa Tounes",
          "law": "2016-1",
          "percentage": 0,
          "vote": "abstenu"
         },
         {
          "bloc": "Allégeance à la Patrie",
          "law": "2017-0",
          "percentage": 0,
          "vote": "abstenu"
         },
         {
          "bloc": "Aucun bloc",
          "law": "2017-0",
          "percentage": 0,
          "vote": "abstenu"
         },
         {
          "bloc": "Bloc Al Horra du Mouvement Machrouu Tounes",
          "law": "2017-0",
          "percentage": 0,
          "vote": "abstenu"
         },
         {
          "bloc": "Bloc Démocrate",
          "law": "2017-0",
          "percentage": 0,
          "vote": "abstenu"
         },
         {
          "bloc": "Coalition nationale",
          "law": "2017-0",
          "percentage": 5,
          "vote": "abstenu"
         },
         {
          "bloc": "Mouvement Ennahdha",
          "law": "2017-0",
          "percentage": 0,
          "vote": "abstenu"
         },
         {
          "bloc": "Mouvement Nidaa Tounes",
          "law": "2017-0",
          "percentage": 0,
          "vote": "abstenu"
         },
         {
          "bloc": "Allégeance à la Patrie",
          "law": "2017-1",
          "percentage": 10,
          "vote": "abstenu"
         },
         {
          "bloc": "Aucun bloc",
          "law": "2017-1",
          "percentage": 3,
          "vote": "abstenu"
         },
         {
          "bloc": "Bloc Al Horra du Mouvement Machrouu Tounes",
          "law": "2017-1",
          "percentage": 0,
          "vote": "abstenu"
         },
         {
          "bloc": "Bloc Démocrate",
          "law": "2017-1",
          "percentage": 0,
          "vote": "abstenu"
         },
         {
          "bloc": "Coalition nationale",
          "law": "2017-1",
          "percentage": 2,
          "vote": "abstenu"
         },
         {
          "bloc": "Mouvement Ennahdha",
          "law": "2017-1",
          "percentage": 0,
          "vote": "abstenu"
         },
         {
          "bloc": "Mouvement Nidaa Tounes",
          "law": "2017-1",
          "percentage": 3,
          "vote": "abstenu"
         },
         {
          "bloc": "Allégeance à la Patrie",
          "law": "2018-0",
          "percentage": 30,
          "vote": "abstenu"
         },
         {
          "bloc": "Aucun bloc",
          "law": "2018-0",
          "percentage": 3,
          "vote": "abstenu"
         },
         {
          "bloc": "Bloc Al Horra du Mouvement Machrouu Tounes",
          "law": "2018-0",
          "percentage": 38,
          "vote": "abstenu"
         },
         {
          "bloc": "Bloc Démocrate",
          "law": "2018-0",
          "percentage": 0,
          "vote": "abstenu"
         },
         {
          "bloc": "Coalition nationale",
          "law": "2018-0",
          "percentage": 7,
          "vote": "abstenu"
         },
         {
          "bloc": "Mouvement Ennahdha",
          "law": "2018-0",
          "percentage": 3,
          "vote": "abstenu"
         },
         {
          "bloc": "Mouvement Nidaa Tounes",
          "law": "2018-0",
          "percentage": 0,
          "vote": "abstenu"
         },
         {
          "bloc": "Allégeance à la Patrie",
          "law": "2019-0",
          "percentage": 30,
          "vote": "abstenu"
         },
         {
          "bloc": "Aucun bloc",
          "law": "2019-0",
          "percentage": 3,
          "vote": "abstenu"
         },
         {
          "bloc": "Bloc Al Horra du Mouvement Machrouu Tounes",
          "law": "2019-0",
          "percentage": 0,
          "vote": "abstenu"
         },
         {
          "bloc": "Bloc Démocrate",
          "law": "2019-0",
          "percentage": 0,
          "vote": "abstenu"
         },
         {
          "bloc": "Coalition nationale",
          "law": "2019-0",
          "percentage": 0,
          "vote": "abstenu"
         },
         {
          "bloc": "Mouvement Ennahdha",
          "law": "2019-0",
          "percentage": 0,
          "vote": "abstenu"
         },
         {
          "bloc": "Mouvement Nidaa Tounes",
          "law": "2019-0",
          "percentage": 19,
          "vote": "abstenu"
         }
        ]
       },
       "facet": {
        "field": "law",
        "type": "nominal"
       },
       "spec": {
        "encoding": {
         "color": {
          "field": "vote",
          "type": "nominal"
         },
         "order": {
          "field": "vote",
          "type": "nominal"
         },
         "tooltip": [
          {
           "field": "bloc",
           "type": "nominal"
          },
          {
           "field": "vote",
           "type": "nominal"
          },
          {
           "field": "percentage",
           "type": "quantitative"
          }
         ],
         "x": {
          "field": "percentage",
          "type": "quantitative"
         },
         "y": {
          "field": "bloc",
          "type": "nominal"
         }
        },
        "mark": "bar"
       }
      },
      "image/png": "[encoded data removed]",
      "text/plain": [
       "<VegaLite 3 object>\n",
       "\n",
       "If you see this message, it means the renderer has not been properly enabled\n",
       "for the frontend that you are using. For more information, see\n",
       "https://altair-viz.github.io/user_guide/troubleshooting.html\n"
      ]
     },
     "execution_count": 24,
     "metadata": {},
     "output_type": "execute_result"
    }
   ],
   "source": [
    "#alt.layer(bars, text).properties(width=w, height=h).facet(\"law\", columns=3).display()\n",
    "bars.facet(\"law\", columns=3)"
   ]
  },
  {
   "cell_type": "markdown",
   "metadata": {},
   "source": [
    "### Average votes for each block across finace laws"
   ]
  },
  {
   "cell_type": "markdown",
   "metadata": {},
   "source": [
    "## Vote distribution by year by law"
   ]
  },
  {
   "cell_type": "code",
   "execution_count": 25,
   "metadata": {},
   "outputs": [],
   "source": [
    "import plotly.express as px"
   ]
  },
  {
   "cell_type": "code",
   "execution_count": 26,
   "metadata": {},
   "outputs": [
    {
     "data": {
      "text/html": [
       "<div>\n",
       "<style scoped>\n",
       "    .dataframe tbody tr th:only-of-type {\n",
       "        vertical-align: middle;\n",
       "    }\n",
       "\n",
       "    .dataframe tbody tr th {\n",
       "        vertical-align: top;\n",
       "    }\n",
       "\n",
       "    .dataframe thead th {\n",
       "        text-align: right;\n",
       "    }\n",
       "</style>\n",
       "<table border=\"1\" class=\"dataframe\">\n",
       "  <thead>\n",
       "    <tr style=\"text-align: right;\">\n",
       "      <th></th>\n",
       "      <th>law</th>\n",
       "      <th>bloc</th>\n",
       "      <th>vote</th>\n",
       "      <th>percentage</th>\n",
       "    </tr>\n",
       "  </thead>\n",
       "  <tbody>\n",
       "    <tr>\n",
       "      <th>179</th>\n",
       "      <td>2017-1</td>\n",
       "      <td>Coalition nationale</td>\n",
       "      <td>abstenu</td>\n",
       "      <td>2.0</td>\n",
       "    </tr>\n",
       "    <tr>\n",
       "      <th>68</th>\n",
       "      <td>2016-1</td>\n",
       "      <td>Mouvement Ennahdha</td>\n",
       "      <td>pour</td>\n",
       "      <td>63.0</td>\n",
       "    </tr>\n",
       "    <tr>\n",
       "      <th>58</th>\n",
       "      <td>2016-0</td>\n",
       "      <td>Bloc Al Horra du Mouvement Machrouu Tounes</td>\n",
       "      <td>pour</td>\n",
       "      <td>85.0</td>\n",
       "    </tr>\n",
       "    <tr>\n",
       "      <th>81</th>\n",
       "      <td>2017-1</td>\n",
       "      <td>Coalition nationale</td>\n",
       "      <td>pour</td>\n",
       "      <td>44.0</td>\n",
       "    </tr>\n",
       "    <tr>\n",
       "      <th>38</th>\n",
       "      <td>2018-0</td>\n",
       "      <td>Bloc Démocrate</td>\n",
       "      <td>X</td>\n",
       "      <td>33.0</td>\n",
       "    </tr>\n",
       "  </tbody>\n",
       "</table>\n",
       "</div>"
      ],
      "text/plain": [
       "        law                                        bloc     vote  percentage\n",
       "179  2017-1                         Coalition nationale  abstenu         2.0\n",
       "68   2016-1                          Mouvement Ennahdha     pour        63.0\n",
       "58   2016-0  Bloc Al Horra du Mouvement Machrouu Tounes     pour        85.0\n",
       "81   2017-1                         Coalition nationale     pour        44.0\n",
       "38   2018-0                              Bloc Démocrate        X        33.0"
      ]
     },
     "execution_count": 26,
     "metadata": {},
     "output_type": "execute_result"
    }
   ],
   "source": [
    "vdb.sample(5)"
   ]
  },
  {
   "cell_type": "code",
   "execution_count": 34,
   "metadata": {},
   "outputs": [
    {
     "data": {
      "application/vnd.plotly.v1+json": {
       "config": {
        "plotlyServerURL": "https://plot.ly"
       },
       "data": [
        {
         "alignmentgroup": "True",
         "hoverlabel": {
          "namelength": 0
         },
         "hovertemplate": "vote=X<br>law=2015-1<br>percentage=%{text}<br>bloc=%{y}",
         "legendgroup": "vote=X",
         "marker": {
          "color": "#636efa"
         },
         "name": "vote=X",
         "offsetgroup": "vote=X",
         "orientation": "h",
         "showlegend": true,
         "text": [
          44,
          23,
          17,
          17,
          30,
          27,
          53
         ],
         "textposition": "auto",
         "type": "bar",
         "x": [
          44,
          23,
          17,
          17,
          30,
          27,
          53
         ],
         "xaxis": "x",
         "y": [
          "Allégeance à la Patrie",
          "Aucun bloc",
          "Bloc Al Horra du Mouvement Machrouu Tounes",
          "Bloc Démocrate",
          "Coalition nationale",
          "Mouvement Ennahdha",
          "Mouvement Nidaa Tounes"
         ],
         "yaxis": "y"
        },
        {
         "alignmentgroup": "True",
         "hoverlabel": {
          "namelength": 0
         },
         "hovertemplate": "vote=X<br>law=2016-0<br>percentage=%{text}<br>bloc=%{y}",
         "legendgroup": "vote=X",
         "marker": {
          "color": "#636efa"
         },
         "name": "vote=X",
         "offsetgroup": "vote=X",
         "orientation": "h",
         "showlegend": false,
         "text": [
          44,
          49,
          15,
          100,
          15,
          18,
          32
         ],
         "textposition": "auto",
         "type": "bar",
         "x": [
          44,
          49,
          15,
          100,
          15,
          18,
          32
         ],
         "xaxis": "x2",
         "y": [
          "Allégeance à la Patrie",
          "Aucun bloc",
          "Bloc Al Horra du Mouvement Machrouu Tounes",
          "Bloc Démocrate",
          "Coalition nationale",
          "Mouvement Ennahdha",
          "Mouvement Nidaa Tounes"
         ],
         "yaxis": "y2"
        },
        {
         "alignmentgroup": "True",
         "hoverlabel": {
          "namelength": 0
         },
         "hovertemplate": "vote=X<br>law=2016-1<br>percentage=%{text}<br>bloc=%{y}",
         "legendgroup": "vote=X",
         "marker": {
          "color": "#636efa"
         },
         "name": "vote=X",
         "offsetgroup": "vote=X",
         "orientation": "h",
         "showlegend": false,
         "text": [
          60,
          50,
          54,
          17,
          65,
          36,
          39
         ],
         "textposition": "auto",
         "type": "bar",
         "x": [
          60,
          50,
          54,
          17,
          65,
          36,
          39
         ],
         "xaxis": "x3",
         "y": [
          "Allégeance à la Patrie",
          "Aucun bloc",
          "Bloc Al Horra du Mouvement Machrouu Tounes",
          "Bloc Démocrate",
          "Coalition nationale",
          "Mouvement Ennahdha",
          "Mouvement Nidaa Tounes"
         ],
         "yaxis": "y3"
        },
        {
         "alignmentgroup": "True",
         "hoverlabel": {
          "namelength": 0
         },
         "hovertemplate": "vote=X<br>law=2017-0<br>percentage=%{text}<br>bloc=%{y}",
         "legendgroup": "vote=X",
         "marker": {
          "color": "#636efa"
         },
         "name": "vote=X",
         "offsetgroup": "vote=X",
         "orientation": "h",
         "showlegend": false,
         "text": [
          22,
          26,
          23,
          25,
          19,
          18,
          20
         ],
         "textposition": "auto",
         "type": "bar",
         "x": [
          22,
          26,
          23,
          25,
          19,
          18,
          20
         ],
         "xaxis": "x4",
         "y": [
          "Allégeance à la Patrie",
          "Aucun bloc",
          "Bloc Al Horra du Mouvement Machrouu Tounes",
          "Bloc Démocrate",
          "Coalition nationale",
          "Mouvement Ennahdha",
          "Mouvement Nidaa Tounes"
         ],
         "yaxis": "y4"
        },
        {
         "alignmentgroup": "True",
         "hoverlabel": {
          "namelength": 0
         },
         "hovertemplate": "vote=X<br>law=2017-1<br>percentage=%{text}<br>bloc=%{y}",
         "legendgroup": "vote=X",
         "marker": {
          "color": "#636efa"
         },
         "name": "vote=X",
         "offsetgroup": "vote=X",
         "orientation": "h",
         "showlegend": false,
         "text": [
          80,
          50,
          46,
          50,
          53,
          24,
          41
         ],
         "textposition": "auto",
         "type": "bar",
         "x": [
          80,
          50,
          46,
          50,
          53,
          24,
          41
         ],
         "xaxis": "x5",
         "y": [
          "Allégeance à la Patrie",
          "Aucun bloc",
          "Bloc Al Horra du Mouvement Machrouu Tounes",
          "Bloc Démocrate",
          "Coalition nationale",
          "Mouvement Ennahdha",
          "Mouvement Nidaa Tounes"
         ],
         "yaxis": "y5"
        },
        {
         "alignmentgroup": "True",
         "hoverlabel": {
          "namelength": 0
         },
         "hovertemplate": "vote=X<br>law=2018-0<br>percentage=%{text}<br>bloc=%{y}",
         "legendgroup": "vote=X",
         "marker": {
          "color": "#636efa"
         },
         "name": "vote=X",
         "offsetgroup": "vote=X",
         "orientation": "h",
         "showlegend": false,
         "text": [
          40,
          24,
          54,
          33,
          19,
          21,
          11
         ],
         "textposition": "auto",
         "type": "bar",
         "x": [
          40,
          24,
          54,
          33,
          19,
          21,
          11
         ],
         "xaxis": "x6",
         "y": [
          "Allégeance à la Patrie",
          "Aucun bloc",
          "Bloc Al Horra du Mouvement Machrouu Tounes",
          "Bloc Démocrate",
          "Coalition nationale",
          "Mouvement Ennahdha",
          "Mouvement Nidaa Tounes"
         ],
         "yaxis": "y6"
        },
        {
         "alignmentgroup": "True",
         "hoverlabel": {
          "namelength": 0
         },
         "hovertemplate": "vote=X<br>law=2019-0<br>percentage=%{text}<br>bloc=%{y}",
         "legendgroup": "vote=X",
         "marker": {
          "color": "#636efa"
         },
         "name": "vote=X",
         "offsetgroup": "vote=X",
         "orientation": "h",
         "showlegend": false,
         "text": [
          30,
          35,
          27,
          17,
          16,
          15,
          54
         ],
         "textposition": "auto",
         "type": "bar",
         "x": [
          30,
          35,
          27,
          17,
          16,
          15,
          54
         ],
         "xaxis": "x7",
         "y": [
          "Allégeance à la Patrie",
          "Aucun bloc",
          "Bloc Al Horra du Mouvement Machrouu Tounes",
          "Bloc Démocrate",
          "Coalition nationale",
          "Mouvement Ennahdha",
          "Mouvement Nidaa Tounes"
         ],
         "yaxis": "y7"
        },
        {
         "alignmentgroup": "True",
         "hoverlabel": {
          "namelength": 0
         },
         "hovertemplate": "vote=pour<br>law=2015-1<br>percentage=%{text}<br>bloc=%{y}",
         "legendgroup": "vote=pour",
         "marker": {
          "color": "#EF553B"
         },
         "name": "vote=pour",
         "offsetgroup": "vote=pour",
         "orientation": "h",
         "showlegend": true,
         "text": [
          33,
          48,
          83,
          17,
          68,
          71,
          41
         ],
         "textposition": "auto",
         "type": "bar",
         "x": [
          33,
          48,
          83,
          17,
          68,
          71,
          41
         ],
         "xaxis": "x",
         "y": [
          "Allégeance à la Patrie",
          "Aucun bloc",
          "Bloc Al Horra du Mouvement Machrouu Tounes",
          "Bloc Démocrate",
          "Coalition nationale",
          "Mouvement Ennahdha",
          "Mouvement Nidaa Tounes"
         ],
         "yaxis": "y"
        },
        {
         "alignmentgroup": "True",
         "hoverlabel": {
          "namelength": 0
         },
         "hovertemplate": "vote=pour<br>law=2016-0<br>percentage=%{text}<br>bloc=%{y}",
         "legendgroup": "vote=pour",
         "marker": {
          "color": "#EF553B"
         },
         "name": "vote=pour",
         "offsetgroup": "vote=pour",
         "orientation": "h",
         "showlegend": false,
         "text": [
          56,
          47,
          85,
          0,
          80,
          77,
          68
         ],
         "textposition": "auto",
         "type": "bar",
         "x": [
          56,
          47,
          85,
          0,
          80,
          77,
          68
         ],
         "xaxis": "x2",
         "y": [
          "Allégeance à la Patrie",
          "Aucun bloc",
          "Bloc Al Horra du Mouvement Machrouu Tounes",
          "Bloc Démocrate",
          "Coalition nationale",
          "Mouvement Ennahdha",
          "Mouvement Nidaa Tounes"
         ],
         "yaxis": "y2"
        },
        {
         "alignmentgroup": "True",
         "hoverlabel": {
          "namelength": 0
         },
         "hovertemplate": "vote=pour<br>law=2016-1<br>percentage=%{text}<br>bloc=%{y}",
         "legendgroup": "vote=pour",
         "marker": {
          "color": "#EF553B"
         },
         "name": "vote=pour",
         "offsetgroup": "vote=pour",
         "orientation": "h",
         "showlegend": false,
         "text": [
          30,
          26,
          46,
          8,
          35,
          63,
          61
         ],
         "textposition": "auto",
         "type": "bar",
         "x": [
          30,
          26,
          46,
          8,
          35,
          63,
          61
         ],
         "xaxis": "x3",
         "y": [
          "Allégeance à la Patrie",
          "Aucun bloc",
          "Bloc Al Horra du Mouvement Machrouu Tounes",
          "Bloc Démocrate",
          "Coalition nationale",
          "Mouvement Ennahdha",
          "Mouvement Nidaa Tounes"
         ],
         "yaxis": "y3"
        },
        {
         "alignmentgroup": "True",
         "hoverlabel": {
          "namelength": 0
         },
         "hovertemplate": "vote=pour<br>law=2017-0<br>percentage=%{text}<br>bloc=%{y}",
         "legendgroup": "vote=pour",
         "marker": {
          "color": "#EF553B"
         },
         "name": "vote=pour",
         "offsetgroup": "vote=pour",
         "orientation": "h",
         "showlegend": false,
         "text": [
          44,
          26,
          8,
          0,
          67,
          82,
          66
         ],
         "textposition": "auto",
         "type": "bar",
         "x": [
          44,
          26,
          8,
          0,
          67,
          82,
          66
         ],
         "xaxis": "x4",
         "y": [
          "Allégeance à la Patrie",
          "Aucun bloc",
          "Bloc Al Horra du Mouvement Machrouu Tounes",
          "Bloc Démocrate",
          "Coalition nationale",
          "Mouvement Ennahdha",
          "Mouvement Nidaa Tounes"
         ],
         "yaxis": "y4"
        },
        {
         "alignmentgroup": "True",
         "hoverlabel": {
          "namelength": 0
         },
         "hovertemplate": "vote=pour<br>law=2017-1<br>percentage=%{text}<br>bloc=%{y}",
         "legendgroup": "vote=pour",
         "marker": {
          "color": "#EF553B"
         },
         "name": "vote=pour",
         "offsetgroup": "vote=pour",
         "orientation": "h",
         "showlegend": false,
         "text": [
          10,
          26,
          54,
          8,
          44,
          76,
          57
         ],
         "textposition": "auto",
         "type": "bar",
         "x": [
          10,
          26,
          54,
          8,
          44,
          76,
          57
         ],
         "xaxis": "x5",
         "y": [
          "Allégeance à la Patrie",
          "Aucun bloc",
          "Bloc Al Horra du Mouvement Machrouu Tounes",
          "Bloc Démocrate",
          "Coalition nationale",
          "Mouvement Ennahdha",
          "Mouvement Nidaa Tounes"
         ],
         "yaxis": "y5"
        },
        {
         "alignmentgroup": "True",
         "hoverlabel": {
          "namelength": 0
         },
         "hovertemplate": "vote=pour<br>law=2018-0<br>percentage=%{text}<br>bloc=%{y}",
         "legendgroup": "vote=pour",
         "marker": {
          "color": "#EF553B"
         },
         "name": "vote=pour",
         "offsetgroup": "vote=pour",
         "orientation": "h",
         "showlegend": false,
         "text": [
          30,
          35,
          8,
          0,
          74,
          76,
          89
         ],
         "textposition": "auto",
         "type": "bar",
         "x": [
          30,
          35,
          8,
          0,
          74,
          76,
          89
         ],
         "xaxis": "x6",
         "y": [
          "Allégeance à la Patrie",
          "Aucun bloc",
          "Bloc Al Horra du Mouvement Machrouu Tounes",
          "Bloc Démocrate",
          "Coalition nationale",
          "Mouvement Ennahdha",
          "Mouvement Nidaa Tounes"
         ],
         "yaxis": "y6"
        },
        {
         "alignmentgroup": "True",
         "hoverlabel": {
          "namelength": 0
         },
         "hovertemplate": "vote=pour<br>law=2019-0<br>percentage=%{text}<br>bloc=%{y}",
         "legendgroup": "vote=pour",
         "marker": {
          "color": "#EF553B"
         },
         "name": "vote=pour",
         "offsetgroup": "vote=pour",
         "orientation": "h",
         "showlegend": false,
         "text": [
          20,
          6,
          73,
          0,
          84,
          85,
          8
         ],
         "textposition": "auto",
         "type": "bar",
         "x": [
          20,
          6,
          73,
          0,
          84,
          85,
          8
         ],
         "xaxis": "x7",
         "y": [
          "Allégeance à la Patrie",
          "Aucun bloc",
          "Bloc Al Horra du Mouvement Machrouu Tounes",
          "Bloc Démocrate",
          "Coalition nationale",
          "Mouvement Ennahdha",
          "Mouvement Nidaa Tounes"
         ],
         "yaxis": "y7"
        },
        {
         "alignmentgroup": "True",
         "hoverlabel": {
          "namelength": 0
         },
         "hovertemplate": "vote=contre<br>law=2015-1<br>percentage=%{text}<br>bloc=%{y}",
         "legendgroup": "vote=contre",
         "marker": {
          "color": "#00cc96"
         },
         "name": "vote=contre",
         "offsetgroup": "vote=contre",
         "orientation": "h",
         "showlegend": true,
         "text": [
          22,
          27,
          0,
          67,
          2,
          0,
          3
         ],
         "textposition": "auto",
         "type": "bar",
         "x": [
          22,
          27,
          0,
          67,
          2,
          0,
          3
         ],
         "xaxis": "x",
         "y": [
          "Allégeance à la Patrie",
          "Aucun bloc",
          "Bloc Al Horra du Mouvement Machrouu Tounes",
          "Bloc Démocrate",
          "Coalition nationale",
          "Mouvement Ennahdha",
          "Mouvement Nidaa Tounes"
         ],
         "yaxis": "y"
        },
        {
         "alignmentgroup": "True",
         "hoverlabel": {
          "namelength": 0
         },
         "hovertemplate": "vote=contre<br>law=2016-0<br>percentage=%{text}<br>bloc=%{y}",
         "legendgroup": "vote=contre",
         "marker": {
          "color": "#00cc96"
         },
         "name": "vote=contre",
         "offsetgroup": "vote=contre",
         "orientation": "h",
         "showlegend": false,
         "text": [
          0,
          0,
          0,
          0,
          0,
          0,
          0
         ],
         "textposition": "auto",
         "type": "bar",
         "x": [
          0,
          0,
          0,
          0,
          0,
          0,
          0
         ],
         "xaxis": "x2",
         "y": [
          "Allégeance à la Patrie",
          "Aucun bloc",
          "Bloc Al Horra du Mouvement Machrouu Tounes",
          "Bloc Démocrate",
          "Coalition nationale",
          "Mouvement Ennahdha",
          "Mouvement Nidaa Tounes"
         ],
         "yaxis": "y2"
        },
        {
         "alignmentgroup": "True",
         "hoverlabel": {
          "namelength": 0
         },
         "hovertemplate": "vote=contre<br>law=2016-1<br>percentage=%{text}<br>bloc=%{y}",
         "legendgroup": "vote=contre",
         "marker": {
          "color": "#00cc96"
         },
         "name": "vote=contre",
         "offsetgroup": "vote=contre",
         "orientation": "h",
         "showlegend": false,
         "text": [
          10,
          24,
          0,
          75,
          0,
          0,
          0
         ],
         "textposition": "auto",
         "type": "bar",
         "x": [
          10,
          24,
          0,
          75,
          0,
          0,
          0
         ],
         "xaxis": "x3",
         "y": [
          "Allégeance à la Patrie",
          "Aucun bloc",
          "Bloc Al Horra du Mouvement Machrouu Tounes",
          "Bloc Démocrate",
          "Coalition nationale",
          "Mouvement Ennahdha",
          "Mouvement Nidaa Tounes"
         ],
         "yaxis": "y3"
        },
        {
         "alignmentgroup": "True",
         "hoverlabel": {
          "namelength": 0
         },
         "hovertemplate": "vote=contre<br>law=2017-0<br>percentage=%{text}<br>bloc=%{y}",
         "legendgroup": "vote=contre",
         "marker": {
          "color": "#00cc96"
         },
         "name": "vote=contre",
         "offsetgroup": "vote=contre",
         "orientation": "h",
         "showlegend": false,
         "text": [
          33,
          47,
          69,
          75,
          9,
          0,
          14
         ],
         "textposition": "auto",
         "type": "bar",
         "x": [
          33,
          47,
          69,
          75,
          9,
          0,
          14
         ],
         "xaxis": "x4",
         "y": [
          "Allégeance à la Patrie",
          "Aucun bloc",
          "Bloc Al Horra du Mouvement Machrouu Tounes",
          "Bloc Démocrate",
          "Coalition nationale",
          "Mouvement Ennahdha",
          "Mouvement Nidaa Tounes"
         ],
         "yaxis": "y4"
        },
        {
         "alignmentgroup": "True",
         "hoverlabel": {
          "namelength": 0
         },
         "hovertemplate": "vote=contre<br>law=2017-1<br>percentage=%{text}<br>bloc=%{y}",
         "legendgroup": "vote=contre",
         "marker": {
          "color": "#00cc96"
         },
         "name": "vote=contre",
         "offsetgroup": "vote=contre",
         "orientation": "h",
         "showlegend": false,
         "text": [
          0,
          21,
          0,
          42,
          0,
          0,
          0
         ],
         "textposition": "auto",
         "type": "bar",
         "x": [
          0,
          21,
          0,
          42,
          0,
          0,
          0
         ],
         "xaxis": "x5",
         "y": [
          "Allégeance à la Patrie",
          "Aucun bloc",
          "Bloc Al Horra du Mouvement Machrouu Tounes",
          "Bloc Démocrate",
          "Coalition nationale",
          "Mouvement Ennahdha",
          "Mouvement Nidaa Tounes"
         ],
         "yaxis": "y5"
        },
        {
         "alignmentgroup": "True",
         "hoverlabel": {
          "namelength": 0
         },
         "hovertemplate": "vote=contre<br>law=2018-0<br>percentage=%{text}<br>bloc=%{y}",
         "legendgroup": "vote=contre",
         "marker": {
          "color": "#00cc96"
         },
         "name": "vote=contre",
         "offsetgroup": "vote=contre",
         "orientation": "h",
         "showlegend": false,
         "text": [
          0,
          38,
          0,
          67,
          0,
          0,
          0
         ],
         "textposition": "auto",
         "type": "bar",
         "x": [
          0,
          38,
          0,
          67,
          0,
          0,
          0
         ],
         "xaxis": "x6",
         "y": [
          "Allégeance à la Patrie",
          "Aucun bloc",
          "Bloc Al Horra du Mouvement Machrouu Tounes",
          "Bloc Démocrate",
          "Coalition nationale",
          "Mouvement Ennahdha",
          "Mouvement Nidaa Tounes"
         ],
         "yaxis": "y6"
        },
        {
         "alignmentgroup": "True",
         "hoverlabel": {
          "namelength": 0
         },
         "hovertemplate": "vote=contre<br>law=2019-0<br>percentage=%{text}<br>bloc=%{y}",
         "legendgroup": "vote=contre",
         "marker": {
          "color": "#00cc96"
         },
         "name": "vote=contre",
         "offsetgroup": "vote=contre",
         "orientation": "h",
         "showlegend": false,
         "text": [
          20,
          55,
          0,
          83,
          0,
          0,
          19
         ],
         "textposition": "auto",
         "type": "bar",
         "x": [
          20,
          55,
          0,
          83,
          0,
          0,
          19
         ],
         "xaxis": "x7",
         "y": [
          "Allégeance à la Patrie",
          "Aucun bloc",
          "Bloc Al Horra du Mouvement Machrouu Tounes",
          "Bloc Démocrate",
          "Coalition nationale",
          "Mouvement Ennahdha",
          "Mouvement Nidaa Tounes"
         ],
         "yaxis": "y7"
        },
        {
         "alignmentgroup": "True",
         "hoverlabel": {
          "namelength": 0
         },
         "hovertemplate": "vote=abstenu<br>law=2015-1<br>percentage=%{text}<br>bloc=%{y}",
         "legendgroup": "vote=abstenu",
         "marker": {
          "color": "#ab63fa"
         },
         "name": "vote=abstenu",
         "offsetgroup": "vote=abstenu",
         "orientation": "h",
         "showlegend": true,
         "text": [
          0,
          2,
          0,
          0,
          0,
          2,
          3
         ],
         "textposition": "auto",
         "type": "bar",
         "x": [
          0,
          2,
          0,
          0,
          0,
          2,
          3
         ],
         "xaxis": "x",
         "y": [
          "Allégeance à la Patrie",
          "Aucun bloc",
          "Bloc Al Horra du Mouvement Machrouu Tounes",
          "Bloc Démocrate",
          "Coalition nationale",
          "Mouvement Ennahdha",
          "Mouvement Nidaa Tounes"
         ],
         "yaxis": "y"
        },
        {
         "alignmentgroup": "True",
         "hoverlabel": {
          "namelength": 0
         },
         "hovertemplate": "vote=abstenu<br>law=2016-0<br>percentage=%{text}<br>bloc=%{y}",
         "legendgroup": "vote=abstenu",
         "marker": {
          "color": "#ab63fa"
         },
         "name": "vote=abstenu",
         "offsetgroup": "vote=abstenu",
         "orientation": "h",
         "showlegend": false,
         "text": [
          0,
          5,
          0,
          0,
          5,
          5,
          0
         ],
         "textposition": "auto",
         "type": "bar",
         "x": [
          0,
          5,
          0,
          0,
          5,
          5,
          0
         ],
         "xaxis": "x2",
         "y": [
          "Allégeance à la Patrie",
          "Aucun bloc",
          "Bloc Al Horra du Mouvement Machrouu Tounes",
          "Bloc Démocrate",
          "Coalition nationale",
          "Mouvement Ennahdha",
          "Mouvement Nidaa Tounes"
         ],
         "yaxis": "y2"
        },
        {
         "alignmentgroup": "True",
         "hoverlabel": {
          "namelength": 0
         },
         "hovertemplate": "vote=abstenu<br>law=2016-1<br>percentage=%{text}<br>bloc=%{y}",
         "legendgroup": "vote=abstenu",
         "marker": {
          "color": "#ab63fa"
         },
         "name": "vote=abstenu",
         "offsetgroup": "vote=abstenu",
         "orientation": "h",
         "showlegend": false,
         "text": [
          0,
          0,
          0,
          0,
          0,
          1,
          0
         ],
         "textposition": "auto",
         "type": "bar",
         "x": [
          0,
          0,
          0,
          0,
          0,
          1,
          0
         ],
         "xaxis": "x3",
         "y": [
          "Allégeance à la Patrie",
          "Aucun bloc",
          "Bloc Al Horra du Mouvement Machrouu Tounes",
          "Bloc Démocrate",
          "Coalition nationale",
          "Mouvement Ennahdha",
          "Mouvement Nidaa Tounes"
         ],
         "yaxis": "y3"
        },
        {
         "alignmentgroup": "True",
         "hoverlabel": {
          "namelength": 0
         },
         "hovertemplate": "vote=abstenu<br>law=2017-0<br>percentage=%{text}<br>bloc=%{y}",
         "legendgroup": "vote=abstenu",
         "marker": {
          "color": "#ab63fa"
         },
         "name": "vote=abstenu",
         "offsetgroup": "vote=abstenu",
         "orientation": "h",
         "showlegend": false,
         "text": [
          0,
          0,
          0,
          0,
          5,
          0,
          0
         ],
         "textposition": "auto",
         "type": "bar",
         "x": [
          0,
          0,
          0,
          0,
          5,
          0,
          0
         ],
         "xaxis": "x4",
         "y": [
          "Allégeance à la Patrie",
          "Aucun bloc",
          "Bloc Al Horra du Mouvement Machrouu Tounes",
          "Bloc Démocrate",
          "Coalition nationale",
          "Mouvement Ennahdha",
          "Mouvement Nidaa Tounes"
         ],
         "yaxis": "y4"
        },
        {
         "alignmentgroup": "True",
         "hoverlabel": {
          "namelength": 0
         },
         "hovertemplate": "vote=abstenu<br>law=2017-1<br>percentage=%{text}<br>bloc=%{y}",
         "legendgroup": "vote=abstenu",
         "marker": {
          "color": "#ab63fa"
         },
         "name": "vote=abstenu",
         "offsetgroup": "vote=abstenu",
         "orientation": "h",
         "showlegend": false,
         "text": [
          10,
          3,
          0,
          0,
          2,
          0,
          3
         ],
         "textposition": "auto",
         "type": "bar",
         "x": [
          10,
          3,
          0,
          0,
          2,
          0,
          3
         ],
         "xaxis": "x5",
         "y": [
          "Allégeance à la Patrie",
          "Aucun bloc",
          "Bloc Al Horra du Mouvement Machrouu Tounes",
          "Bloc Démocrate",
          "Coalition nationale",
          "Mouvement Ennahdha",
          "Mouvement Nidaa Tounes"
         ],
         "yaxis": "y5"
        },
        {
         "alignmentgroup": "True",
         "hoverlabel": {
          "namelength": 0
         },
         "hovertemplate": "vote=abstenu<br>law=2018-0<br>percentage=%{text}<br>bloc=%{y}",
         "legendgroup": "vote=abstenu",
         "marker": {
          "color": "#ab63fa"
         },
         "name": "vote=abstenu",
         "offsetgroup": "vote=abstenu",
         "orientation": "h",
         "showlegend": false,
         "text": [
          30,
          3,
          38,
          0,
          7,
          3,
          0
         ],
         "textposition": "auto",
         "type": "bar",
         "x": [
          30,
          3,
          38,
          0,
          7,
          3,
          0
         ],
         "xaxis": "x6",
         "y": [
          "Allégeance à la Patrie",
          "Aucun bloc",
          "Bloc Al Horra du Mouvement Machrouu Tounes",
          "Bloc Démocrate",
          "Coalition nationale",
          "Mouvement Ennahdha",
          "Mouvement Nidaa Tounes"
         ],
         "yaxis": "y6"
        },
        {
         "alignmentgroup": "True",
         "hoverlabel": {
          "namelength": 0
         },
         "hovertemplate": "vote=abstenu<br>law=2019-0<br>percentage=%{text}<br>bloc=%{y}",
         "legendgroup": "vote=abstenu",
         "marker": {
          "color": "#ab63fa"
         },
         "name": "vote=abstenu",
         "offsetgroup": "vote=abstenu",
         "orientation": "h",
         "showlegend": false,
         "text": [
          30,
          3,
          0,
          0,
          0,
          0,
          19
         ],
         "textposition": "auto",
         "type": "bar",
         "x": [
          30,
          3,
          0,
          0,
          0,
          0,
          19
         ],
         "xaxis": "x7",
         "y": [
          "Allégeance à la Patrie",
          "Aucun bloc",
          "Bloc Al Horra du Mouvement Machrouu Tounes",
          "Bloc Démocrate",
          "Coalition nationale",
          "Mouvement Ennahdha",
          "Mouvement Nidaa Tounes"
         ],
         "yaxis": "y7"
        }
       ],
       "layout": {
        "annotations": [
         {
          "font": {},
          "showarrow": false,
          "text": "law=2015-1",
          "x": 0.06142857142857142,
          "xanchor": "center",
          "xref": "paper",
          "y": 1,
          "yanchor": "bottom",
          "yref": "paper"
         },
         {
          "font": {},
          "showarrow": false,
          "text": "law=2016-0",
          "x": 0.20428571428571426,
          "xanchor": "center",
          "xref": "paper",
          "y": 1,
          "yanchor": "bottom",
          "yref": "paper"
         },
         {
          "font": {},
          "showarrow": false,
          "text": "law=2016-1",
          "x": 0.3471428571428571,
          "xanchor": "center",
          "xref": "paper",
          "y": 1,
          "yanchor": "bottom",
          "yref": "paper"
         },
         {
          "font": {},
          "showarrow": false,
          "text": "law=2017-0",
          "x": 0.49,
          "xanchor": "center",
          "xref": "paper",
          "y": 1,
          "yanchor": "bottom",
          "yref": "paper"
         },
         {
          "font": {},
          "showarrow": false,
          "text": "law=2017-1",
          "x": 0.6328571428571428,
          "xanchor": "center",
          "xref": "paper",
          "y": 1,
          "yanchor": "bottom",
          "yref": "paper"
         },
         {
          "font": {},
          "showarrow": false,
          "text": "law=2018-0",
          "x": 0.7757142857142856,
          "xanchor": "center",
          "xref": "paper",
          "y": 1,
          "yanchor": "bottom",
          "yref": "paper"
         },
         {
          "font": {},
          "showarrow": false,
          "text": "law=2019-0",
          "x": 0.9185714285714286,
          "xanchor": "center",
          "xref": "paper",
          "y": 1,
          "yanchor": "bottom",
          "yref": "paper"
         }
        ],
        "barmode": "relative",
        "height": 675,
        "legend": {
         "tracegroupgap": 0
        },
        "margin": {
         "t": 60
        },
        "template": {
         "data": {
          "bar": [
           {
            "error_x": {
             "color": "#2a3f5f"
            },
            "error_y": {
             "color": "#2a3f5f"
            },
            "marker": {
             "line": {
              "color": "#E5ECF6",
              "width": 0.5
             }
            },
            "type": "bar"
           }
          ],
          "barpolar": [
           {
            "marker": {
             "line": {
              "color": "#E5ECF6",
              "width": 0.5
             }
            },
            "type": "barpolar"
           }
          ],
          "carpet": [
           {
            "aaxis": {
             "endlinecolor": "#2a3f5f",
             "gridcolor": "white",
             "linecolor": "white",
             "minorgridcolor": "white",
             "startlinecolor": "#2a3f5f"
            },
            "baxis": {
             "endlinecolor": "#2a3f5f",
             "gridcolor": "white",
             "linecolor": "white",
             "minorgridcolor": "white",
             "startlinecolor": "#2a3f5f"
            },
            "type": "carpet"
           }
          ],
          "choropleth": [
           {
            "colorbar": {
             "outlinewidth": 0,
             "ticks": ""
            },
            "type": "choropleth"
           }
          ],
          "contour": [
           {
            "colorbar": {
             "outlinewidth": 0,
             "ticks": ""
            },
            "colorscale": [
             [
              0,
              "#0d0887"
             ],
             [
              0.1111111111111111,
              "#46039f"
             ],
             [
              0.2222222222222222,
              "#7201a8"
             ],
             [
              0.3333333333333333,
              "#9c179e"
             ],
             [
              0.4444444444444444,
              "#bd3786"
             ],
             [
              0.5555555555555556,
              "#d8576b"
             ],
             [
              0.6666666666666666,
              "#ed7953"
             ],
             [
              0.7777777777777778,
              "#fb9f3a"
             ],
             [
              0.8888888888888888,
              "#fdca26"
             ],
             [
              1,
              "#f0f921"
             ]
            ],
            "type": "contour"
           }
          ],
          "contourcarpet": [
           {
            "colorbar": {
             "outlinewidth": 0,
             "ticks": ""
            },
            "type": "contourcarpet"
           }
          ],
          "heatmap": [
           {
            "colorbar": {
             "outlinewidth": 0,
             "ticks": ""
            },
            "colorscale": [
             [
              0,
              "#0d0887"
             ],
             [
              0.1111111111111111,
              "#46039f"
             ],
             [
              0.2222222222222222,
              "#7201a8"
             ],
             [
              0.3333333333333333,
              "#9c179e"
             ],
             [
              0.4444444444444444,
              "#bd3786"
             ],
             [
              0.5555555555555556,
              "#d8576b"
             ],
             [
              0.6666666666666666,
              "#ed7953"
             ],
             [
              0.7777777777777778,
              "#fb9f3a"
             ],
             [
              0.8888888888888888,
              "#fdca26"
             ],
             [
              1,
              "#f0f921"
             ]
            ],
            "type": "heatmap"
           }
          ],
          "heatmapgl": [
           {
            "colorbar": {
             "outlinewidth": 0,
             "ticks": ""
            },
            "colorscale": [
             [
              0,
              "#0d0887"
             ],
             [
              0.1111111111111111,
              "#46039f"
             ],
             [
              0.2222222222222222,
              "#7201a8"
             ],
             [
              0.3333333333333333,
              "#9c179e"
             ],
             [
              0.4444444444444444,
              "#bd3786"
             ],
             [
              0.5555555555555556,
              "#d8576b"
             ],
             [
              0.6666666666666666,
              "#ed7953"
             ],
             [
              0.7777777777777778,
              "#fb9f3a"
             ],
             [
              0.8888888888888888,
              "#fdca26"
             ],
             [
              1,
              "#f0f921"
             ]
            ],
            "type": "heatmapgl"
           }
          ],
          "histogram": [
           {
            "marker": {
             "colorbar": {
              "outlinewidth": 0,
              "ticks": ""
             }
            },
            "type": "histogram"
           }
          ],
          "histogram2d": [
           {
            "colorbar": {
             "outlinewidth": 0,
             "ticks": ""
            },
            "colorscale": [
             [
              0,
              "#0d0887"
             ],
             [
              0.1111111111111111,
              "#46039f"
             ],
             [
              0.2222222222222222,
              "#7201a8"
             ],
             [
              0.3333333333333333,
              "#9c179e"
             ],
             [
              0.4444444444444444,
              "#bd3786"
             ],
             [
              0.5555555555555556,
              "#d8576b"
             ],
             [
              0.6666666666666666,
              "#ed7953"
             ],
             [
              0.7777777777777778,
              "#fb9f3a"
             ],
             [
              0.8888888888888888,
              "#fdca26"
             ],
             [
              1,
              "#f0f921"
             ]
            ],
            "type": "histogram2d"
           }
          ],
          "histogram2dcontour": [
           {
            "colorbar": {
             "outlinewidth": 0,
             "ticks": ""
            },
            "colorscale": [
             [
              0,
              "#0d0887"
             ],
             [
              0.1111111111111111,
              "#46039f"
             ],
             [
              0.2222222222222222,
              "#7201a8"
             ],
             [
              0.3333333333333333,
              "#9c179e"
             ],
             [
              0.4444444444444444,
              "#bd3786"
             ],
             [
              0.5555555555555556,
              "#d8576b"
             ],
             [
              0.6666666666666666,
              "#ed7953"
             ],
             [
              0.7777777777777778,
              "#fb9f3a"
             ],
             [
              0.8888888888888888,
              "#fdca26"
             ],
             [
              1,
              "#f0f921"
             ]
            ],
            "type": "histogram2dcontour"
           }
          ],
          "mesh3d": [
           {
            "colorbar": {
             "outlinewidth": 0,
             "ticks": ""
            },
            "type": "mesh3d"
           }
          ],
          "parcoords": [
           {
            "line": {
             "colorbar": {
              "outlinewidth": 0,
              "ticks": ""
             }
            },
            "type": "parcoords"
           }
          ],
          "scatter": [
           {
            "marker": {
             "colorbar": {
              "outlinewidth": 0,
              "ticks": ""
             }
            },
            "type": "scatter"
           }
          ],
          "scatter3d": [
           {
            "line": {
             "colorbar": {
              "outlinewidth": 0,
              "ticks": ""
             }
            },
            "marker": {
             "colorbar": {
              "outlinewidth": 0,
              "ticks": ""
             }
            },
            "type": "scatter3d"
           }
          ],
          "scattercarpet": [
           {
            "marker": {
             "colorbar": {
              "outlinewidth": 0,
              "ticks": ""
             }
            },
            "type": "scattercarpet"
           }
          ],
          "scattergeo": [
           {
            "marker": {
             "colorbar": {
              "outlinewidth": 0,
              "ticks": ""
             }
            },
            "type": "scattergeo"
           }
          ],
          "scattergl": [
           {
            "marker": {
             "colorbar": {
              "outlinewidth": 0,
              "ticks": ""
             }
            },
            "type": "scattergl"
           }
          ],
          "scattermapbox": [
           {
            "marker": {
             "colorbar": {
              "outlinewidth": 0,
              "ticks": ""
             }
            },
            "type": "scattermapbox"
           }
          ],
          "scatterpolar": [
           {
            "marker": {
             "colorbar": {
              "outlinewidth": 0,
              "ticks": ""
             }
            },
            "type": "scatterpolar"
           }
          ],
          "scatterpolargl": [
           {
            "marker": {
             "colorbar": {
              "outlinewidth": 0,
              "ticks": ""
             }
            },
            "type": "scatterpolargl"
           }
          ],
          "scatterternary": [
           {
            "marker": {
             "colorbar": {
              "outlinewidth": 0,
              "ticks": ""
             }
            },
            "type": "scatterternary"
           }
          ],
          "surface": [
           {
            "colorbar": {
             "outlinewidth": 0,
             "ticks": ""
            },
            "colorscale": [
             [
              0,
              "#0d0887"
             ],
             [
              0.1111111111111111,
              "#46039f"
             ],
             [
              0.2222222222222222,
              "#7201a8"
             ],
             [
              0.3333333333333333,
              "#9c179e"
             ],
             [
              0.4444444444444444,
              "#bd3786"
             ],
             [
              0.5555555555555556,
              "#d8576b"
             ],
             [
              0.6666666666666666,
              "#ed7953"
             ],
             [
              0.7777777777777778,
              "#fb9f3a"
             ],
             [
              0.8888888888888888,
              "#fdca26"
             ],
             [
              1,
              "#f0f921"
             ]
            ],
            "type": "surface"
           }
          ],
          "table": [
           {
            "cells": {
             "fill": {
              "color": "#EBF0F8"
             },
             "line": {
              "color": "white"
             }
            },
            "header": {
             "fill": {
              "color": "#C8D4E3"
             },
             "line": {
              "color": "white"
             }
            },
            "type": "table"
           }
          ]
         },
         "layout": {
          "annotationdefaults": {
           "arrowcolor": "#2a3f5f",
           "arrowhead": 0,
           "arrowwidth": 1
          },
          "colorscale": {
           "diverging": [
            [
             0,
             "#8e0152"
            ],
            [
             0.1,
             "#c51b7d"
            ],
            [
             0.2,
             "#de77ae"
            ],
            [
             0.3,
             "#f1b6da"
            ],
            [
             0.4,
             "#fde0ef"
            ],
            [
             0.5,
             "#f7f7f7"
            ],
            [
             0.6,
             "#e6f5d0"
            ],
            [
             0.7,
             "#b8e186"
            ],
            [
             0.8,
             "#7fbc41"
            ],
            [
             0.9,
             "#4d9221"
            ],
            [
             1,
             "#276419"
            ]
           ],
           "sequential": [
            [
             0,
             "#0d0887"
            ],
            [
             0.1111111111111111,
             "#46039f"
            ],
            [
             0.2222222222222222,
             "#7201a8"
            ],
            [
             0.3333333333333333,
             "#9c179e"
            ],
            [
             0.4444444444444444,
             "#bd3786"
            ],
            [
             0.5555555555555556,
             "#d8576b"
            ],
            [
             0.6666666666666666,
             "#ed7953"
            ],
            [
             0.7777777777777778,
             "#fb9f3a"
            ],
            [
             0.8888888888888888,
             "#fdca26"
            ],
            [
             1,
             "#f0f921"
            ]
           ],
           "sequentialminus": [
            [
             0,
             "#0d0887"
            ],
            [
             0.1111111111111111,
             "#46039f"
            ],
            [
             0.2222222222222222,
             "#7201a8"
            ],
            [
             0.3333333333333333,
             "#9c179e"
            ],
            [
             0.4444444444444444,
             "#bd3786"
            ],
            [
             0.5555555555555556,
             "#d8576b"
            ],
            [
             0.6666666666666666,
             "#ed7953"
            ],
            [
             0.7777777777777778,
             "#fb9f3a"
            ],
            [
             0.8888888888888888,
             "#fdca26"
            ],
            [
             1,
             "#f0f921"
            ]
           ]
          },
          "colorway": [
           "#636efa",
           "#EF553B",
           "#00cc96",
           "#ab63fa",
           "#FFA15A",
           "#19d3f3",
           "#FF6692",
           "#B6E880",
           "#FF97FF",
           "#FECB52"
          ],
          "font": {
           "color": "#2a3f5f"
          },
          "geo": {
           "bgcolor": "white",
           "lakecolor": "white",
           "landcolor": "#E5ECF6",
           "showlakes": true,
           "showland": true,
           "subunitcolor": "white"
          },
          "hoverlabel": {
           "align": "left"
          },
          "hovermode": "closest",
          "mapbox": {
           "style": "light"
          },
          "paper_bgcolor": "white",
          "plot_bgcolor": "#E5ECF6",
          "polar": {
           "angularaxis": {
            "gridcolor": "white",
            "linecolor": "white",
            "ticks": ""
           },
           "bgcolor": "#E5ECF6",
           "radialaxis": {
            "gridcolor": "white",
            "linecolor": "white",
            "ticks": ""
           }
          },
          "scene": {
           "xaxis": {
            "backgroundcolor": "#E5ECF6",
            "gridcolor": "white",
            "gridwidth": 2,
            "linecolor": "white",
            "showbackground": true,
            "ticks": "",
            "zerolinecolor": "white"
           },
           "yaxis": {
            "backgroundcolor": "#E5ECF6",
            "gridcolor": "white",
            "gridwidth": 2,
            "linecolor": "white",
            "showbackground": true,
            "ticks": "",
            "zerolinecolor": "white"
           },
           "zaxis": {
            "backgroundcolor": "#E5ECF6",
            "gridcolor": "white",
            "gridwidth": 2,
            "linecolor": "white",
            "showbackground": true,
            "ticks": "",
            "zerolinecolor": "white"
           }
          },
          "shapedefaults": {
           "line": {
            "color": "#2a3f5f"
           }
          },
          "ternary": {
           "aaxis": {
            "gridcolor": "white",
            "linecolor": "white",
            "ticks": ""
           },
           "baxis": {
            "gridcolor": "white",
            "linecolor": "white",
            "ticks": ""
           },
           "bgcolor": "#E5ECF6",
           "caxis": {
            "gridcolor": "white",
            "linecolor": "white",
            "ticks": ""
           }
          },
          "title": {
           "x": 0.05
          },
          "xaxis": {
           "automargin": true,
           "gridcolor": "white",
           "linecolor": "white",
           "ticks": "",
           "zerolinecolor": "white",
           "zerolinewidth": 2
          },
          "yaxis": {
           "automargin": true,
           "gridcolor": "white",
           "linecolor": "white",
           "ticks": "",
           "zerolinecolor": "white",
           "zerolinewidth": 2
          }
         }
        },
        "width": 1200,
        "xaxis": {
         "anchor": "y",
         "autorange": true,
         "domain": [
          0,
          0.12285714285714285
         ],
         "range": [
          0,
          106.3157894736842
         ],
         "title": {
          "text": "percentage"
         },
         "type": "linear"
        },
        "xaxis2": {
         "anchor": "y2",
         "autorange": true,
         "domain": [
          0.14285714285714285,
          0.2657142857142857
         ],
         "matches": "x",
         "range": [
          0,
          106.3157894736842
         ],
         "title": {
          "text": "percentage"
         },
         "type": "linear"
        },
        "xaxis3": {
         "anchor": "y3",
         "autorange": true,
         "domain": [
          0.2857142857142857,
          0.40857142857142853
         ],
         "matches": "x",
         "range": [
          0,
          106.3157894736842
         ],
         "title": {
          "text": "percentage"
         },
         "type": "linear"
        },
        "xaxis4": {
         "anchor": "y4",
         "autorange": true,
         "domain": [
          0.42857142857142855,
          0.5514285714285714
         ],
         "matches": "x",
         "range": [
          0,
          106.3157894736842
         ],
         "title": {
          "text": "percentage"
         },
         "type": "linear"
        },
        "xaxis5": {
         "anchor": "y5",
         "autorange": true,
         "domain": [
          0.5714285714285714,
          0.6942857142857143
         ],
         "matches": "x",
         "range": [
          0,
          106.3157894736842
         ],
         "title": {
          "text": "percentage"
         },
         "type": "linear"
        },
        "xaxis6": {
         "anchor": "y6",
         "autorange": true,
         "domain": [
          0.7142857142857142,
          0.8371428571428571
         ],
         "matches": "x",
         "range": [
          0,
          106.3157894736842
         ],
         "title": {
          "text": "percentage"
         },
         "type": "linear"
        },
        "xaxis7": {
         "anchor": "y7",
         "autorange": true,
         "domain": [
          0.8571428571428571,
          0.98
         ],
         "matches": "x",
         "range": [
          0,
          106.3157894736842
         ],
         "title": {
          "text": "percentage"
         },
         "type": "linear"
        },
        "yaxis": {
         "anchor": "x",
         "autorange": true,
         "domain": [
          0,
          1
         ],
         "range": [
          -0.5,
          6.5
         ],
         "title": {
          "text": "bloc"
         },
         "type": "category"
        },
        "yaxis2": {
         "anchor": "x2",
         "autorange": true,
         "domain": [
          0,
          1
         ],
         "matches": "y",
         "range": [
          -0.5,
          6.5
         ],
         "showticklabels": false,
         "type": "category"
        },
        "yaxis3": {
         "anchor": "x3",
         "autorange": true,
         "domain": [
          0,
          1
         ],
         "matches": "y",
         "range": [
          -0.5,
          6.5
         ],
         "showticklabels": false,
         "type": "category"
        },
        "yaxis4": {
         "anchor": "x4",
         "autorange": true,
         "domain": [
          0,
          1
         ],
         "matches": "y",
         "range": [
          -0.5,
          6.5
         ],
         "showticklabels": false,
         "type": "category"
        },
        "yaxis5": {
         "anchor": "x5",
         "autorange": true,
         "domain": [
          0,
          1
         ],
         "matches": "y",
         "range": [
          -0.5,
          6.5
         ],
         "showticklabels": false,
         "type": "category"
        },
        "yaxis6": {
         "anchor": "x6",
         "autorange": true,
         "domain": [
          0,
          1
         ],
         "matches": "y",
         "range": [
          -0.5,
          6.5
         ],
         "showticklabels": false,
         "type": "category"
        },
        "yaxis7": {
         "anchor": "x7",
         "autorange": true,
         "domain": [
          0,
          1
         ],
         "matches": "y",
         "range": [
          -0.5,
          6.5
         ],
         "showticklabels": false,
         "type": "category"
        }
       }
      },
      "image/png": "[encoded data removed]",
      "text/html": [
       "<div>\n",
       "        \n",
       "        \n",
       "            <div id=\"bffdb2e1-4ee0-4918-ad6a-ad6eab180091\" class=\"plotly-graph-div\" style=\"height:675.0px; width:1200px;\"></div>\n",
       "            <script type=\"text/javascript\">\n",
       "                require([\"plotly\"], function(Plotly) {\n",
       "                    window.PLOTLYENV=window.PLOTLYENV || {};\n",
       "                    \n",
       "                if (document.getElementById(\"bffdb2e1-4ee0-4918-ad6a-ad6eab180091\")) {\n",
       "                    Plotly.newPlot(\n",
       "                        'bffdb2e1-4ee0-4918-ad6a-ad6eab180091',\n",
       "                        [{\"alignmentgroup\": \"True\", \"hoverlabel\": {\"namelength\": 0}, \"hovertemplate\": \"vote=X<br>law=2015-1<br>percentage=%{text}<br>bloc=%{y}\", \"legendgroup\": \"vote=X\", \"marker\": {\"color\": \"#636efa\"}, \"name\": \"vote=X\", \"offsetgroup\": \"vote=X\", \"orientation\": \"h\", \"showlegend\": true, \"text\": [44.0, 23.0, 17.0, 17.0, 30.0, 27.0, 53.0], \"textposition\": \"auto\", \"type\": \"bar\", \"x\": [44.0, 23.0, 17.0, 17.0, 30.0, 27.0, 53.0], \"xaxis\": \"x\", \"y\": [\"All\\u00e9geance \\u00e0 la Patrie\", \"Aucun bloc\", \"Bloc Al Horra du Mouvement Machrouu Tounes\", \"Bloc D\\u00e9mocrate\", \"Coalition nationale\", \"Mouvement Ennahdha\", \"Mouvement Nidaa Tounes\"], \"yaxis\": \"y\"}, {\"alignmentgroup\": \"True\", \"hoverlabel\": {\"namelength\": 0}, \"hovertemplate\": \"vote=X<br>law=2016-0<br>percentage=%{text}<br>bloc=%{y}\", \"legendgroup\": \"vote=X\", \"marker\": {\"color\": \"#636efa\"}, \"name\": \"vote=X\", \"offsetgroup\": \"vote=X\", \"orientation\": \"h\", \"showlegend\": false, \"text\": [44.0, 49.0, 15.0, 100.0, 15.0, 18.0, 32.0], \"textposition\": \"auto\", \"type\": \"bar\", \"x\": [44.0, 49.0, 15.0, 100.0, 15.0, 18.0, 32.0], \"xaxis\": \"x2\", \"y\": [\"All\\u00e9geance \\u00e0 la Patrie\", \"Aucun bloc\", \"Bloc Al Horra du Mouvement Machrouu Tounes\", \"Bloc D\\u00e9mocrate\", \"Coalition nationale\", \"Mouvement Ennahdha\", \"Mouvement Nidaa Tounes\"], \"yaxis\": \"y2\"}, {\"alignmentgroup\": \"True\", \"hoverlabel\": {\"namelength\": 0}, \"hovertemplate\": \"vote=X<br>law=2016-1<br>percentage=%{text}<br>bloc=%{y}\", \"legendgroup\": \"vote=X\", \"marker\": {\"color\": \"#636efa\"}, \"name\": \"vote=X\", \"offsetgroup\": \"vote=X\", \"orientation\": \"h\", \"showlegend\": false, \"text\": [60.0, 50.0, 54.0, 17.0, 65.0, 36.0, 39.0], \"textposition\": \"auto\", \"type\": \"bar\", \"x\": [60.0, 50.0, 54.0, 17.0, 65.0, 36.0, 39.0], \"xaxis\": \"x3\", \"y\": [\"All\\u00e9geance \\u00e0 la Patrie\", \"Aucun bloc\", \"Bloc Al Horra du Mouvement Machrouu Tounes\", \"Bloc D\\u00e9mocrate\", \"Coalition nationale\", \"Mouvement Ennahdha\", \"Mouvement Nidaa Tounes\"], \"yaxis\": \"y3\"}, {\"alignmentgroup\": \"True\", \"hoverlabel\": {\"namelength\": 0}, \"hovertemplate\": \"vote=X<br>law=2017-0<br>percentage=%{text}<br>bloc=%{y}\", \"legendgroup\": \"vote=X\", \"marker\": {\"color\": \"#636efa\"}, \"name\": \"vote=X\", \"offsetgroup\": \"vote=X\", \"orientation\": \"h\", \"showlegend\": false, \"text\": [22.0, 26.0, 23.0, 25.0, 19.0, 18.0, 20.0], \"textposition\": \"auto\", \"type\": \"bar\", \"x\": [22.0, 26.0, 23.0, 25.0, 19.0, 18.0, 20.0], \"xaxis\": \"x4\", \"y\": [\"All\\u00e9geance \\u00e0 la Patrie\", \"Aucun bloc\", \"Bloc Al Horra du Mouvement Machrouu Tounes\", \"Bloc D\\u00e9mocrate\", \"Coalition nationale\", \"Mouvement Ennahdha\", \"Mouvement Nidaa Tounes\"], \"yaxis\": \"y4\"}, {\"alignmentgroup\": \"True\", \"hoverlabel\": {\"namelength\": 0}, \"hovertemplate\": \"vote=X<br>law=2017-1<br>percentage=%{text}<br>bloc=%{y}\", \"legendgroup\": \"vote=X\", \"marker\": {\"color\": \"#636efa\"}, \"name\": \"vote=X\", \"offsetgroup\": \"vote=X\", \"orientation\": \"h\", \"showlegend\": false, \"text\": [80.0, 50.0, 46.0, 50.0, 53.0, 24.0, 41.0], \"textposition\": \"auto\", \"type\": \"bar\", \"x\": [80.0, 50.0, 46.0, 50.0, 53.0, 24.0, 41.0], \"xaxis\": \"x5\", \"y\": [\"All\\u00e9geance \\u00e0 la Patrie\", \"Aucun bloc\", \"Bloc Al Horra du Mouvement Machrouu Tounes\", \"Bloc D\\u00e9mocrate\", \"Coalition nationale\", \"Mouvement Ennahdha\", \"Mouvement Nidaa Tounes\"], \"yaxis\": \"y5\"}, {\"alignmentgroup\": \"True\", \"hoverlabel\": {\"namelength\": 0}, \"hovertemplate\": \"vote=X<br>law=2018-0<br>percentage=%{text}<br>bloc=%{y}\", \"legendgroup\": \"vote=X\", \"marker\": {\"color\": \"#636efa\"}, \"name\": \"vote=X\", \"offsetgroup\": \"vote=X\", \"orientation\": \"h\", \"showlegend\": false, \"text\": [40.0, 24.0, 54.0, 33.0, 19.0, 21.0, 11.0], \"textposition\": \"auto\", \"type\": \"bar\", \"x\": [40.0, 24.0, 54.0, 33.0, 19.0, 21.0, 11.0], \"xaxis\": \"x6\", \"y\": [\"All\\u00e9geance \\u00e0 la Patrie\", \"Aucun bloc\", \"Bloc Al Horra du Mouvement Machrouu Tounes\", \"Bloc D\\u00e9mocrate\", \"Coalition nationale\", \"Mouvement Ennahdha\", \"Mouvement Nidaa Tounes\"], \"yaxis\": \"y6\"}, {\"alignmentgroup\": \"True\", \"hoverlabel\": {\"namelength\": 0}, \"hovertemplate\": \"vote=X<br>law=2019-0<br>percentage=%{text}<br>bloc=%{y}\", \"legendgroup\": \"vote=X\", \"marker\": {\"color\": \"#636efa\"}, \"name\": \"vote=X\", \"offsetgroup\": \"vote=X\", \"orientation\": \"h\", \"showlegend\": false, \"text\": [30.0, 35.0, 27.0, 17.0, 16.0, 15.0, 54.0], \"textposition\": \"auto\", \"type\": \"bar\", \"x\": [30.0, 35.0, 27.0, 17.0, 16.0, 15.0, 54.0], \"xaxis\": \"x7\", \"y\": [\"All\\u00e9geance \\u00e0 la Patrie\", \"Aucun bloc\", \"Bloc Al Horra du Mouvement Machrouu Tounes\", \"Bloc D\\u00e9mocrate\", \"Coalition nationale\", \"Mouvement Ennahdha\", \"Mouvement Nidaa Tounes\"], \"yaxis\": \"y7\"}, {\"alignmentgroup\": \"True\", \"hoverlabel\": {\"namelength\": 0}, \"hovertemplate\": \"vote=pour<br>law=2015-1<br>percentage=%{text}<br>bloc=%{y}\", \"legendgroup\": \"vote=pour\", \"marker\": {\"color\": \"#EF553B\"}, \"name\": \"vote=pour\", \"offsetgroup\": \"vote=pour\", \"orientation\": \"h\", \"showlegend\": true, \"text\": [33.0, 48.0, 83.0, 17.0, 68.0, 71.0, 41.0], \"textposition\": \"auto\", \"type\": \"bar\", \"x\": [33.0, 48.0, 83.0, 17.0, 68.0, 71.0, 41.0], \"xaxis\": \"x\", \"y\": [\"All\\u00e9geance \\u00e0 la Patrie\", \"Aucun bloc\", \"Bloc Al Horra du Mouvement Machrouu Tounes\", \"Bloc D\\u00e9mocrate\", \"Coalition nationale\", \"Mouvement Ennahdha\", \"Mouvement Nidaa Tounes\"], \"yaxis\": \"y\"}, {\"alignmentgroup\": \"True\", \"hoverlabel\": {\"namelength\": 0}, \"hovertemplate\": \"vote=pour<br>law=2016-0<br>percentage=%{text}<br>bloc=%{y}\", \"legendgroup\": \"vote=pour\", \"marker\": {\"color\": \"#EF553B\"}, \"name\": \"vote=pour\", \"offsetgroup\": \"vote=pour\", \"orientation\": \"h\", \"showlegend\": false, \"text\": [56.0, 47.0, 85.0, 0.0, 80.0, 77.0, 68.0], \"textposition\": \"auto\", \"type\": \"bar\", \"x\": [56.0, 47.0, 85.0, 0.0, 80.0, 77.0, 68.0], \"xaxis\": \"x2\", \"y\": [\"All\\u00e9geance \\u00e0 la Patrie\", \"Aucun bloc\", \"Bloc Al Horra du Mouvement Machrouu Tounes\", \"Bloc D\\u00e9mocrate\", \"Coalition nationale\", \"Mouvement Ennahdha\", \"Mouvement Nidaa Tounes\"], \"yaxis\": \"y2\"}, {\"alignmentgroup\": \"True\", \"hoverlabel\": {\"namelength\": 0}, \"hovertemplate\": \"vote=pour<br>law=2016-1<br>percentage=%{text}<br>bloc=%{y}\", \"legendgroup\": \"vote=pour\", \"marker\": {\"color\": \"#EF553B\"}, \"name\": \"vote=pour\", \"offsetgroup\": \"vote=pour\", \"orientation\": \"h\", \"showlegend\": false, \"text\": [30.0, 26.0, 46.0, 8.0, 35.0, 63.0, 61.0], \"textposition\": \"auto\", \"type\": \"bar\", \"x\": [30.0, 26.0, 46.0, 8.0, 35.0, 63.0, 61.0], \"xaxis\": \"x3\", \"y\": [\"All\\u00e9geance \\u00e0 la Patrie\", \"Aucun bloc\", \"Bloc Al Horra du Mouvement Machrouu Tounes\", \"Bloc D\\u00e9mocrate\", \"Coalition nationale\", \"Mouvement Ennahdha\", \"Mouvement Nidaa Tounes\"], \"yaxis\": \"y3\"}, {\"alignmentgroup\": \"True\", \"hoverlabel\": {\"namelength\": 0}, \"hovertemplate\": \"vote=pour<br>law=2017-0<br>percentage=%{text}<br>bloc=%{y}\", \"legendgroup\": \"vote=pour\", \"marker\": {\"color\": \"#EF553B\"}, \"name\": \"vote=pour\", \"offsetgroup\": \"vote=pour\", \"orientation\": \"h\", \"showlegend\": false, \"text\": [44.0, 26.0, 8.0, 0.0, 67.0, 82.0, 66.0], \"textposition\": \"auto\", \"type\": \"bar\", \"x\": [44.0, 26.0, 8.0, 0.0, 67.0, 82.0, 66.0], \"xaxis\": \"x4\", \"y\": [\"All\\u00e9geance \\u00e0 la Patrie\", \"Aucun bloc\", \"Bloc Al Horra du Mouvement Machrouu Tounes\", \"Bloc D\\u00e9mocrate\", \"Coalition nationale\", \"Mouvement Ennahdha\", \"Mouvement Nidaa Tounes\"], \"yaxis\": \"y4\"}, {\"alignmentgroup\": \"True\", \"hoverlabel\": {\"namelength\": 0}, \"hovertemplate\": \"vote=pour<br>law=2017-1<br>percentage=%{text}<br>bloc=%{y}\", \"legendgroup\": \"vote=pour\", \"marker\": {\"color\": \"#EF553B\"}, \"name\": \"vote=pour\", \"offsetgroup\": \"vote=pour\", \"orientation\": \"h\", \"showlegend\": false, \"text\": [10.0, 26.0, 54.0, 8.0, 44.0, 76.0, 57.0], \"textposition\": \"auto\", \"type\": \"bar\", \"x\": [10.0, 26.0, 54.0, 8.0, 44.0, 76.0, 57.0], \"xaxis\": \"x5\", \"y\": [\"All\\u00e9geance \\u00e0 la Patrie\", \"Aucun bloc\", \"Bloc Al Horra du Mouvement Machrouu Tounes\", \"Bloc D\\u00e9mocrate\", \"Coalition nationale\", \"Mouvement Ennahdha\", \"Mouvement Nidaa Tounes\"], \"yaxis\": \"y5\"}, {\"alignmentgroup\": \"True\", \"hoverlabel\": {\"namelength\": 0}, \"hovertemplate\": \"vote=pour<br>law=2018-0<br>percentage=%{text}<br>bloc=%{y}\", \"legendgroup\": \"vote=pour\", \"marker\": {\"color\": \"#EF553B\"}, \"name\": \"vote=pour\", \"offsetgroup\": \"vote=pour\", \"orientation\": \"h\", \"showlegend\": false, \"text\": [30.0, 35.0, 8.0, 0.0, 74.0, 76.0, 89.0], \"textposition\": \"auto\", \"type\": \"bar\", \"x\": [30.0, 35.0, 8.0, 0.0, 74.0, 76.0, 89.0], \"xaxis\": \"x6\", \"y\": [\"All\\u00e9geance \\u00e0 la Patrie\", \"Aucun bloc\", \"Bloc Al Horra du Mouvement Machrouu Tounes\", \"Bloc D\\u00e9mocrate\", \"Coalition nationale\", \"Mouvement Ennahdha\", \"Mouvement Nidaa Tounes\"], \"yaxis\": \"y6\"}, {\"alignmentgroup\": \"True\", \"hoverlabel\": {\"namelength\": 0}, \"hovertemplate\": \"vote=pour<br>law=2019-0<br>percentage=%{text}<br>bloc=%{y}\", \"legendgroup\": \"vote=pour\", \"marker\": {\"color\": \"#EF553B\"}, \"name\": \"vote=pour\", \"offsetgroup\": \"vote=pour\", \"orientation\": \"h\", \"showlegend\": false, \"text\": [20.0, 6.0, 73.0, 0.0, 84.0, 85.0, 8.0], \"textposition\": \"auto\", \"type\": \"bar\", \"x\": [20.0, 6.0, 73.0, 0.0, 84.0, 85.0, 8.0], \"xaxis\": \"x7\", \"y\": [\"All\\u00e9geance \\u00e0 la Patrie\", \"Aucun bloc\", \"Bloc Al Horra du Mouvement Machrouu Tounes\", \"Bloc D\\u00e9mocrate\", \"Coalition nationale\", \"Mouvement Ennahdha\", \"Mouvement Nidaa Tounes\"], \"yaxis\": \"y7\"}, {\"alignmentgroup\": \"True\", \"hoverlabel\": {\"namelength\": 0}, \"hovertemplate\": \"vote=contre<br>law=2015-1<br>percentage=%{text}<br>bloc=%{y}\", \"legendgroup\": \"vote=contre\", \"marker\": {\"color\": \"#00cc96\"}, \"name\": \"vote=contre\", \"offsetgroup\": \"vote=contre\", \"orientation\": \"h\", \"showlegend\": true, \"text\": [22.0, 27.0, 0.0, 67.0, 2.0, 0.0, 3.0], \"textposition\": \"auto\", \"type\": \"bar\", \"x\": [22.0, 27.0, 0.0, 67.0, 2.0, 0.0, 3.0], \"xaxis\": \"x\", \"y\": [\"All\\u00e9geance \\u00e0 la Patrie\", \"Aucun bloc\", \"Bloc Al Horra du Mouvement Machrouu Tounes\", \"Bloc D\\u00e9mocrate\", \"Coalition nationale\", \"Mouvement Ennahdha\", \"Mouvement Nidaa Tounes\"], \"yaxis\": \"y\"}, {\"alignmentgroup\": \"True\", \"hoverlabel\": {\"namelength\": 0}, \"hovertemplate\": \"vote=contre<br>law=2016-0<br>percentage=%{text}<br>bloc=%{y}\", \"legendgroup\": \"vote=contre\", \"marker\": {\"color\": \"#00cc96\"}, \"name\": \"vote=contre\", \"offsetgroup\": \"vote=contre\", \"orientation\": \"h\", \"showlegend\": false, \"text\": [0.0, 0.0, 0.0, 0.0, 0.0, 0.0, 0.0], \"textposition\": \"auto\", \"type\": \"bar\", \"x\": [0.0, 0.0, 0.0, 0.0, 0.0, 0.0, 0.0], \"xaxis\": \"x2\", \"y\": [\"All\\u00e9geance \\u00e0 la Patrie\", \"Aucun bloc\", \"Bloc Al Horra du Mouvement Machrouu Tounes\", \"Bloc D\\u00e9mocrate\", \"Coalition nationale\", \"Mouvement Ennahdha\", \"Mouvement Nidaa Tounes\"], \"yaxis\": \"y2\"}, {\"alignmentgroup\": \"True\", \"hoverlabel\": {\"namelength\": 0}, \"hovertemplate\": \"vote=contre<br>law=2016-1<br>percentage=%{text}<br>bloc=%{y}\", \"legendgroup\": \"vote=contre\", \"marker\": {\"color\": \"#00cc96\"}, \"name\": \"vote=contre\", \"offsetgroup\": \"vote=contre\", \"orientation\": \"h\", \"showlegend\": false, \"text\": [10.0, 24.0, 0.0, 75.0, 0.0, 0.0, 0.0], \"textposition\": \"auto\", \"type\": \"bar\", \"x\": [10.0, 24.0, 0.0, 75.0, 0.0, 0.0, 0.0], \"xaxis\": \"x3\", \"y\": [\"All\\u00e9geance \\u00e0 la Patrie\", \"Aucun bloc\", \"Bloc Al Horra du Mouvement Machrouu Tounes\", \"Bloc D\\u00e9mocrate\", \"Coalition nationale\", \"Mouvement Ennahdha\", \"Mouvement Nidaa Tounes\"], \"yaxis\": \"y3\"}, {\"alignmentgroup\": \"True\", \"hoverlabel\": {\"namelength\": 0}, \"hovertemplate\": \"vote=contre<br>law=2017-0<br>percentage=%{text}<br>bloc=%{y}\", \"legendgroup\": \"vote=contre\", \"marker\": {\"color\": \"#00cc96\"}, \"name\": \"vote=contre\", \"offsetgroup\": \"vote=contre\", \"orientation\": \"h\", \"showlegend\": false, \"text\": [33.0, 47.0, 69.0, 75.0, 9.0, 0.0, 14.0], \"textposition\": \"auto\", \"type\": \"bar\", \"x\": [33.0, 47.0, 69.0, 75.0, 9.0, 0.0, 14.0], \"xaxis\": \"x4\", \"y\": [\"All\\u00e9geance \\u00e0 la Patrie\", \"Aucun bloc\", \"Bloc Al Horra du Mouvement Machrouu Tounes\", \"Bloc D\\u00e9mocrate\", \"Coalition nationale\", \"Mouvement Ennahdha\", \"Mouvement Nidaa Tounes\"], \"yaxis\": \"y4\"}, {\"alignmentgroup\": \"True\", \"hoverlabel\": {\"namelength\": 0}, \"hovertemplate\": \"vote=contre<br>law=2017-1<br>percentage=%{text}<br>bloc=%{y}\", \"legendgroup\": \"vote=contre\", \"marker\": {\"color\": \"#00cc96\"}, \"name\": \"vote=contre\", \"offsetgroup\": \"vote=contre\", \"orientation\": \"h\", \"showlegend\": false, \"text\": [0.0, 21.0, 0.0, 42.0, 0.0, 0.0, 0.0], \"textposition\": \"auto\", \"type\": \"bar\", \"x\": [0.0, 21.0, 0.0, 42.0, 0.0, 0.0, 0.0], \"xaxis\": \"x5\", \"y\": [\"All\\u00e9geance \\u00e0 la Patrie\", \"Aucun bloc\", \"Bloc Al Horra du Mouvement Machrouu Tounes\", \"Bloc D\\u00e9mocrate\", \"Coalition nationale\", \"Mouvement Ennahdha\", \"Mouvement Nidaa Tounes\"], \"yaxis\": \"y5\"}, {\"alignmentgroup\": \"True\", \"hoverlabel\": {\"namelength\": 0}, \"hovertemplate\": \"vote=contre<br>law=2018-0<br>percentage=%{text}<br>bloc=%{y}\", \"legendgroup\": \"vote=contre\", \"marker\": {\"color\": \"#00cc96\"}, \"name\": \"vote=contre\", \"offsetgroup\": \"vote=contre\", \"orientation\": \"h\", \"showlegend\": false, \"text\": [0.0, 38.0, 0.0, 67.0, 0.0, 0.0, 0.0], \"textposition\": \"auto\", \"type\": \"bar\", \"x\": [0.0, 38.0, 0.0, 67.0, 0.0, 0.0, 0.0], \"xaxis\": \"x6\", \"y\": [\"All\\u00e9geance \\u00e0 la Patrie\", \"Aucun bloc\", \"Bloc Al Horra du Mouvement Machrouu Tounes\", \"Bloc D\\u00e9mocrate\", \"Coalition nationale\", \"Mouvement Ennahdha\", \"Mouvement Nidaa Tounes\"], \"yaxis\": \"y6\"}, {\"alignmentgroup\": \"True\", \"hoverlabel\": {\"namelength\": 0}, \"hovertemplate\": \"vote=contre<br>law=2019-0<br>percentage=%{text}<br>bloc=%{y}\", \"legendgroup\": \"vote=contre\", \"marker\": {\"color\": \"#00cc96\"}, \"name\": \"vote=contre\", \"offsetgroup\": \"vote=contre\", \"orientation\": \"h\", \"showlegend\": false, \"text\": [20.0, 55.0, 0.0, 83.0, 0.0, 0.0, 19.0], \"textposition\": \"auto\", \"type\": \"bar\", \"x\": [20.0, 55.0, 0.0, 83.0, 0.0, 0.0, 19.0], \"xaxis\": \"x7\", \"y\": [\"All\\u00e9geance \\u00e0 la Patrie\", \"Aucun bloc\", \"Bloc Al Horra du Mouvement Machrouu Tounes\", \"Bloc D\\u00e9mocrate\", \"Coalition nationale\", \"Mouvement Ennahdha\", \"Mouvement Nidaa Tounes\"], \"yaxis\": \"y7\"}, {\"alignmentgroup\": \"True\", \"hoverlabel\": {\"namelength\": 0}, \"hovertemplate\": \"vote=abstenu<br>law=2015-1<br>percentage=%{text}<br>bloc=%{y}\", \"legendgroup\": \"vote=abstenu\", \"marker\": {\"color\": \"#ab63fa\"}, \"name\": \"vote=abstenu\", \"offsetgroup\": \"vote=abstenu\", \"orientation\": \"h\", \"showlegend\": true, \"text\": [0.0, 2.0, 0.0, 0.0, 0.0, 2.0, 3.0], \"textposition\": \"auto\", \"type\": \"bar\", \"x\": [0.0, 2.0, 0.0, 0.0, 0.0, 2.0, 3.0], \"xaxis\": \"x\", \"y\": [\"All\\u00e9geance \\u00e0 la Patrie\", \"Aucun bloc\", \"Bloc Al Horra du Mouvement Machrouu Tounes\", \"Bloc D\\u00e9mocrate\", \"Coalition nationale\", \"Mouvement Ennahdha\", \"Mouvement Nidaa Tounes\"], \"yaxis\": \"y\"}, {\"alignmentgroup\": \"True\", \"hoverlabel\": {\"namelength\": 0}, \"hovertemplate\": \"vote=abstenu<br>law=2016-0<br>percentage=%{text}<br>bloc=%{y}\", \"legendgroup\": \"vote=abstenu\", \"marker\": {\"color\": \"#ab63fa\"}, \"name\": \"vote=abstenu\", \"offsetgroup\": \"vote=abstenu\", \"orientation\": \"h\", \"showlegend\": false, \"text\": [0.0, 5.0, 0.0, 0.0, 5.0, 5.0, 0.0], \"textposition\": \"auto\", \"type\": \"bar\", \"x\": [0.0, 5.0, 0.0, 0.0, 5.0, 5.0, 0.0], \"xaxis\": \"x2\", \"y\": [\"All\\u00e9geance \\u00e0 la Patrie\", \"Aucun bloc\", \"Bloc Al Horra du Mouvement Machrouu Tounes\", \"Bloc D\\u00e9mocrate\", \"Coalition nationale\", \"Mouvement Ennahdha\", \"Mouvement Nidaa Tounes\"], \"yaxis\": \"y2\"}, {\"alignmentgroup\": \"True\", \"hoverlabel\": {\"namelength\": 0}, \"hovertemplate\": \"vote=abstenu<br>law=2016-1<br>percentage=%{text}<br>bloc=%{y}\", \"legendgroup\": \"vote=abstenu\", \"marker\": {\"color\": \"#ab63fa\"}, \"name\": \"vote=abstenu\", \"offsetgroup\": \"vote=abstenu\", \"orientation\": \"h\", \"showlegend\": false, \"text\": [0.0, 0.0, 0.0, 0.0, 0.0, 1.0, 0.0], \"textposition\": \"auto\", \"type\": \"bar\", \"x\": [0.0, 0.0, 0.0, 0.0, 0.0, 1.0, 0.0], \"xaxis\": \"x3\", \"y\": [\"All\\u00e9geance \\u00e0 la Patrie\", \"Aucun bloc\", \"Bloc Al Horra du Mouvement Machrouu Tounes\", \"Bloc D\\u00e9mocrate\", \"Coalition nationale\", \"Mouvement Ennahdha\", \"Mouvement Nidaa Tounes\"], \"yaxis\": \"y3\"}, {\"alignmentgroup\": \"True\", \"hoverlabel\": {\"namelength\": 0}, \"hovertemplate\": \"vote=abstenu<br>law=2017-0<br>percentage=%{text}<br>bloc=%{y}\", \"legendgroup\": \"vote=abstenu\", \"marker\": {\"color\": \"#ab63fa\"}, \"name\": \"vote=abstenu\", \"offsetgroup\": \"vote=abstenu\", \"orientation\": \"h\", \"showlegend\": false, \"text\": [0.0, 0.0, 0.0, 0.0, 5.0, 0.0, 0.0], \"textposition\": \"auto\", \"type\": \"bar\", \"x\": [0.0, 0.0, 0.0, 0.0, 5.0, 0.0, 0.0], \"xaxis\": \"x4\", \"y\": [\"All\\u00e9geance \\u00e0 la Patrie\", \"Aucun bloc\", \"Bloc Al Horra du Mouvement Machrouu Tounes\", \"Bloc D\\u00e9mocrate\", \"Coalition nationale\", \"Mouvement Ennahdha\", \"Mouvement Nidaa Tounes\"], \"yaxis\": \"y4\"}, {\"alignmentgroup\": \"True\", \"hoverlabel\": {\"namelength\": 0}, \"hovertemplate\": \"vote=abstenu<br>law=2017-1<br>percentage=%{text}<br>bloc=%{y}\", \"legendgroup\": \"vote=abstenu\", \"marker\": {\"color\": \"#ab63fa\"}, \"name\": \"vote=abstenu\", \"offsetgroup\": \"vote=abstenu\", \"orientation\": \"h\", \"showlegend\": false, \"text\": [10.0, 3.0, 0.0, 0.0, 2.0, 0.0, 3.0], \"textposition\": \"auto\", \"type\": \"bar\", \"x\": [10.0, 3.0, 0.0, 0.0, 2.0, 0.0, 3.0], \"xaxis\": \"x5\", \"y\": [\"All\\u00e9geance \\u00e0 la Patrie\", \"Aucun bloc\", \"Bloc Al Horra du Mouvement Machrouu Tounes\", \"Bloc D\\u00e9mocrate\", \"Coalition nationale\", \"Mouvement Ennahdha\", \"Mouvement Nidaa Tounes\"], \"yaxis\": \"y5\"}, {\"alignmentgroup\": \"True\", \"hoverlabel\": {\"namelength\": 0}, \"hovertemplate\": \"vote=abstenu<br>law=2018-0<br>percentage=%{text}<br>bloc=%{y}\", \"legendgroup\": \"vote=abstenu\", \"marker\": {\"color\": \"#ab63fa\"}, \"name\": \"vote=abstenu\", \"offsetgroup\": \"vote=abstenu\", \"orientation\": \"h\", \"showlegend\": false, \"text\": [30.0, 3.0, 38.0, 0.0, 7.0, 3.0, 0.0], \"textposition\": \"auto\", \"type\": \"bar\", \"x\": [30.0, 3.0, 38.0, 0.0, 7.0, 3.0, 0.0], \"xaxis\": \"x6\", \"y\": [\"All\\u00e9geance \\u00e0 la Patrie\", \"Aucun bloc\", \"Bloc Al Horra du Mouvement Machrouu Tounes\", \"Bloc D\\u00e9mocrate\", \"Coalition nationale\", \"Mouvement Ennahdha\", \"Mouvement Nidaa Tounes\"], \"yaxis\": \"y6\"}, {\"alignmentgroup\": \"True\", \"hoverlabel\": {\"namelength\": 0}, \"hovertemplate\": \"vote=abstenu<br>law=2019-0<br>percentage=%{text}<br>bloc=%{y}\", \"legendgroup\": \"vote=abstenu\", \"marker\": {\"color\": \"#ab63fa\"}, \"name\": \"vote=abstenu\", \"offsetgroup\": \"vote=abstenu\", \"orientation\": \"h\", \"showlegend\": false, \"text\": [30.0, 3.0, 0.0, 0.0, 0.0, 0.0, 19.0], \"textposition\": \"auto\", \"type\": \"bar\", \"x\": [30.0, 3.0, 0.0, 0.0, 0.0, 0.0, 19.0], \"xaxis\": \"x7\", \"y\": [\"All\\u00e9geance \\u00e0 la Patrie\", \"Aucun bloc\", \"Bloc Al Horra du Mouvement Machrouu Tounes\", \"Bloc D\\u00e9mocrate\", \"Coalition nationale\", \"Mouvement Ennahdha\", \"Mouvement Nidaa Tounes\"], \"yaxis\": \"y7\"}],\n",
       "                        {\"annotations\": [{\"font\": {}, \"showarrow\": false, \"text\": \"law=2015-1\", \"x\": 0.06142857142857142, \"xanchor\": \"center\", \"xref\": \"paper\", \"y\": 1.0, \"yanchor\": \"bottom\", \"yref\": \"paper\"}, {\"font\": {}, \"showarrow\": false, \"text\": \"law=2016-0\", \"x\": 0.20428571428571426, \"xanchor\": \"center\", \"xref\": \"paper\", \"y\": 1.0, \"yanchor\": \"bottom\", \"yref\": \"paper\"}, {\"font\": {}, \"showarrow\": false, \"text\": \"law=2016-1\", \"x\": 0.3471428571428571, \"xanchor\": \"center\", \"xref\": \"paper\", \"y\": 1.0, \"yanchor\": \"bottom\", \"yref\": \"paper\"}, {\"font\": {}, \"showarrow\": false, \"text\": \"law=2017-0\", \"x\": 0.49, \"xanchor\": \"center\", \"xref\": \"paper\", \"y\": 1.0, \"yanchor\": \"bottom\", \"yref\": \"paper\"}, {\"font\": {}, \"showarrow\": false, \"text\": \"law=2017-1\", \"x\": 0.6328571428571428, \"xanchor\": \"center\", \"xref\": \"paper\", \"y\": 1.0, \"yanchor\": \"bottom\", \"yref\": \"paper\"}, {\"font\": {}, \"showarrow\": false, \"text\": \"law=2018-0\", \"x\": 0.7757142857142856, \"xanchor\": \"center\", \"xref\": \"paper\", \"y\": 1.0, \"yanchor\": \"bottom\", \"yref\": \"paper\"}, {\"font\": {}, \"showarrow\": false, \"text\": \"law=2019-0\", \"x\": 0.9185714285714286, \"xanchor\": \"center\", \"xref\": \"paper\", \"y\": 1.0, \"yanchor\": \"bottom\", \"yref\": \"paper\"}], \"barmode\": \"relative\", \"height\": 675.0, \"legend\": {\"tracegroupgap\": 0}, \"margin\": {\"t\": 60}, \"template\": {\"data\": {\"bar\": [{\"error_x\": {\"color\": \"#2a3f5f\"}, \"error_y\": {\"color\": \"#2a3f5f\"}, \"marker\": {\"line\": {\"color\": \"#E5ECF6\", \"width\": 0.5}}, \"type\": \"bar\"}], \"barpolar\": [{\"marker\": {\"line\": {\"color\": \"#E5ECF6\", \"width\": 0.5}}, \"type\": \"barpolar\"}], \"carpet\": [{\"aaxis\": {\"endlinecolor\": \"#2a3f5f\", \"gridcolor\": \"white\", \"linecolor\": \"white\", \"minorgridcolor\": \"white\", \"startlinecolor\": \"#2a3f5f\"}, \"baxis\": {\"endlinecolor\": \"#2a3f5f\", \"gridcolor\": \"white\", \"linecolor\": \"white\", \"minorgridcolor\": \"white\", \"startlinecolor\": \"#2a3f5f\"}, \"type\": \"carpet\"}], \"choropleth\": [{\"colorbar\": {\"outlinewidth\": 0, \"ticks\": \"\"}, \"type\": \"choropleth\"}], \"contour\": [{\"colorbar\": {\"outlinewidth\": 0, \"ticks\": \"\"}, \"colorscale\": [[0.0, \"#0d0887\"], [0.1111111111111111, \"#46039f\"], [0.2222222222222222, \"#7201a8\"], [0.3333333333333333, \"#9c179e\"], [0.4444444444444444, \"#bd3786\"], [0.5555555555555556, \"#d8576b\"], [0.6666666666666666, \"#ed7953\"], [0.7777777777777778, \"#fb9f3a\"], [0.8888888888888888, \"#fdca26\"], [1.0, \"#f0f921\"]], \"type\": \"contour\"}], \"contourcarpet\": [{\"colorbar\": {\"outlinewidth\": 0, \"ticks\": \"\"}, \"type\": \"contourcarpet\"}], \"heatmap\": [{\"colorbar\": {\"outlinewidth\": 0, \"ticks\": \"\"}, \"colorscale\": [[0.0, \"#0d0887\"], [0.1111111111111111, \"#46039f\"], [0.2222222222222222, \"#7201a8\"], [0.3333333333333333, \"#9c179e\"], [0.4444444444444444, \"#bd3786\"], [0.5555555555555556, \"#d8576b\"], [0.6666666666666666, \"#ed7953\"], [0.7777777777777778, \"#fb9f3a\"], [0.8888888888888888, \"#fdca26\"], [1.0, \"#f0f921\"]], \"type\": \"heatmap\"}], \"heatmapgl\": [{\"colorbar\": {\"outlinewidth\": 0, \"ticks\": \"\"}, \"colorscale\": [[0.0, \"#0d0887\"], [0.1111111111111111, \"#46039f\"], [0.2222222222222222, \"#7201a8\"], [0.3333333333333333, \"#9c179e\"], [0.4444444444444444, \"#bd3786\"], [0.5555555555555556, \"#d8576b\"], [0.6666666666666666, \"#ed7953\"], [0.7777777777777778, \"#fb9f3a\"], [0.8888888888888888, \"#fdca26\"], [1.0, \"#f0f921\"]], \"type\": \"heatmapgl\"}], \"histogram\": [{\"marker\": {\"colorbar\": {\"outlinewidth\": 0, \"ticks\": \"\"}}, \"type\": \"histogram\"}], \"histogram2d\": [{\"colorbar\": {\"outlinewidth\": 0, \"ticks\": \"\"}, \"colorscale\": [[0.0, \"#0d0887\"], [0.1111111111111111, \"#46039f\"], [0.2222222222222222, \"#7201a8\"], [0.3333333333333333, \"#9c179e\"], [0.4444444444444444, \"#bd3786\"], [0.5555555555555556, \"#d8576b\"], [0.6666666666666666, \"#ed7953\"], [0.7777777777777778, \"#fb9f3a\"], [0.8888888888888888, \"#fdca26\"], [1.0, \"#f0f921\"]], \"type\": \"histogram2d\"}], \"histogram2dcontour\": [{\"colorbar\": {\"outlinewidth\": 0, \"ticks\": \"\"}, \"colorscale\": [[0.0, \"#0d0887\"], [0.1111111111111111, \"#46039f\"], [0.2222222222222222, \"#7201a8\"], [0.3333333333333333, \"#9c179e\"], [0.4444444444444444, \"#bd3786\"], [0.5555555555555556, \"#d8576b\"], [0.6666666666666666, \"#ed7953\"], [0.7777777777777778, \"#fb9f3a\"], [0.8888888888888888, \"#fdca26\"], [1.0, \"#f0f921\"]], \"type\": \"histogram2dcontour\"}], \"mesh3d\": [{\"colorbar\": {\"outlinewidth\": 0, \"ticks\": \"\"}, \"type\": \"mesh3d\"}], \"parcoords\": [{\"line\": {\"colorbar\": {\"outlinewidth\": 0, \"ticks\": \"\"}}, \"type\": \"parcoords\"}], \"scatter\": [{\"marker\": {\"colorbar\": {\"outlinewidth\": 0, \"ticks\": \"\"}}, \"type\": \"scatter\"}], \"scatter3d\": [{\"line\": {\"colorbar\": {\"outlinewidth\": 0, \"ticks\": \"\"}}, \"marker\": {\"colorbar\": {\"outlinewidth\": 0, \"ticks\": \"\"}}, \"type\": \"scatter3d\"}], \"scattercarpet\": [{\"marker\": {\"colorbar\": {\"outlinewidth\": 0, \"ticks\": \"\"}}, \"type\": \"scattercarpet\"}], \"scattergeo\": [{\"marker\": {\"colorbar\": {\"outlinewidth\": 0, \"ticks\": \"\"}}, \"type\": \"scattergeo\"}], \"scattergl\": [{\"marker\": {\"colorbar\": {\"outlinewidth\": 0, \"ticks\": \"\"}}, \"type\": \"scattergl\"}], \"scattermapbox\": [{\"marker\": {\"colorbar\": {\"outlinewidth\": 0, \"ticks\": \"\"}}, \"type\": \"scattermapbox\"}], \"scatterpolar\": [{\"marker\": {\"colorbar\": {\"outlinewidth\": 0, \"ticks\": \"\"}}, \"type\": \"scatterpolar\"}], \"scatterpolargl\": [{\"marker\": {\"colorbar\": {\"outlinewidth\": 0, \"ticks\": \"\"}}, \"type\": \"scatterpolargl\"}], \"scatterternary\": [{\"marker\": {\"colorbar\": {\"outlinewidth\": 0, \"ticks\": \"\"}}, \"type\": \"scatterternary\"}], \"surface\": [{\"colorbar\": {\"outlinewidth\": 0, \"ticks\": \"\"}, \"colorscale\": [[0.0, \"#0d0887\"], [0.1111111111111111, \"#46039f\"], [0.2222222222222222, \"#7201a8\"], [0.3333333333333333, \"#9c179e\"], [0.4444444444444444, \"#bd3786\"], [0.5555555555555556, \"#d8576b\"], [0.6666666666666666, \"#ed7953\"], [0.7777777777777778, \"#fb9f3a\"], [0.8888888888888888, \"#fdca26\"], [1.0, \"#f0f921\"]], \"type\": \"surface\"}], \"table\": [{\"cells\": {\"fill\": {\"color\": \"#EBF0F8\"}, \"line\": {\"color\": \"white\"}}, \"header\": {\"fill\": {\"color\": \"#C8D4E3\"}, \"line\": {\"color\": \"white\"}}, \"type\": \"table\"}]}, \"layout\": {\"annotationdefaults\": {\"arrowcolor\": \"#2a3f5f\", \"arrowhead\": 0, \"arrowwidth\": 1}, \"colorscale\": {\"diverging\": [[0, \"#8e0152\"], [0.1, \"#c51b7d\"], [0.2, \"#de77ae\"], [0.3, \"#f1b6da\"], [0.4, \"#fde0ef\"], [0.5, \"#f7f7f7\"], [0.6, \"#e6f5d0\"], [0.7, \"#b8e186\"], [0.8, \"#7fbc41\"], [0.9, \"#4d9221\"], [1, \"#276419\"]], \"sequential\": [[0.0, \"#0d0887\"], [0.1111111111111111, \"#46039f\"], [0.2222222222222222, \"#7201a8\"], [0.3333333333333333, \"#9c179e\"], [0.4444444444444444, \"#bd3786\"], [0.5555555555555556, \"#d8576b\"], [0.6666666666666666, \"#ed7953\"], [0.7777777777777778, \"#fb9f3a\"], [0.8888888888888888, \"#fdca26\"], [1.0, \"#f0f921\"]], \"sequentialminus\": [[0.0, \"#0d0887\"], [0.1111111111111111, \"#46039f\"], [0.2222222222222222, \"#7201a8\"], [0.3333333333333333, \"#9c179e\"], [0.4444444444444444, \"#bd3786\"], [0.5555555555555556, \"#d8576b\"], [0.6666666666666666, \"#ed7953\"], [0.7777777777777778, \"#fb9f3a\"], [0.8888888888888888, \"#fdca26\"], [1.0, \"#f0f921\"]]}, \"colorway\": [\"#636efa\", \"#EF553B\", \"#00cc96\", \"#ab63fa\", \"#FFA15A\", \"#19d3f3\", \"#FF6692\", \"#B6E880\", \"#FF97FF\", \"#FECB52\"], \"font\": {\"color\": \"#2a3f5f\"}, \"geo\": {\"bgcolor\": \"white\", \"lakecolor\": \"white\", \"landcolor\": \"#E5ECF6\", \"showlakes\": true, \"showland\": true, \"subunitcolor\": \"white\"}, \"hoverlabel\": {\"align\": \"left\"}, \"hovermode\": \"closest\", \"mapbox\": {\"style\": \"light\"}, \"paper_bgcolor\": \"white\", \"plot_bgcolor\": \"#E5ECF6\", \"polar\": {\"angularaxis\": {\"gridcolor\": \"white\", \"linecolor\": \"white\", \"ticks\": \"\"}, \"bgcolor\": \"#E5ECF6\", \"radialaxis\": {\"gridcolor\": \"white\", \"linecolor\": \"white\", \"ticks\": \"\"}}, \"scene\": {\"xaxis\": {\"backgroundcolor\": \"#E5ECF6\", \"gridcolor\": \"white\", \"gridwidth\": 2, \"linecolor\": \"white\", \"showbackground\": true, \"ticks\": \"\", \"zerolinecolor\": \"white\"}, \"yaxis\": {\"backgroundcolor\": \"#E5ECF6\", \"gridcolor\": \"white\", \"gridwidth\": 2, \"linecolor\": \"white\", \"showbackground\": true, \"ticks\": \"\", \"zerolinecolor\": \"white\"}, \"zaxis\": {\"backgroundcolor\": \"#E5ECF6\", \"gridcolor\": \"white\", \"gridwidth\": 2, \"linecolor\": \"white\", \"showbackground\": true, \"ticks\": \"\", \"zerolinecolor\": \"white\"}}, \"shapedefaults\": {\"line\": {\"color\": \"#2a3f5f\"}}, \"ternary\": {\"aaxis\": {\"gridcolor\": \"white\", \"linecolor\": \"white\", \"ticks\": \"\"}, \"baxis\": {\"gridcolor\": \"white\", \"linecolor\": \"white\", \"ticks\": \"\"}, \"bgcolor\": \"#E5ECF6\", \"caxis\": {\"gridcolor\": \"white\", \"linecolor\": \"white\", \"ticks\": \"\"}}, \"title\": {\"x\": 0.05}, \"xaxis\": {\"automargin\": true, \"gridcolor\": \"white\", \"linecolor\": \"white\", \"ticks\": \"\", \"zerolinecolor\": \"white\", \"zerolinewidth\": 2}, \"yaxis\": {\"automargin\": true, \"gridcolor\": \"white\", \"linecolor\": \"white\", \"ticks\": \"\", \"zerolinecolor\": \"white\", \"zerolinewidth\": 2}}}, \"width\": 1200, \"xaxis\": {\"anchor\": \"y\", \"domain\": [0.0, 0.12285714285714285], \"title\": {\"text\": \"percentage\"}}, \"xaxis2\": {\"anchor\": \"y2\", \"domain\": [0.14285714285714285, 0.2657142857142857], \"matches\": \"x\", \"title\": {\"text\": \"percentage\"}}, \"xaxis3\": {\"anchor\": \"y3\", \"domain\": [0.2857142857142857, 0.40857142857142853], \"matches\": \"x\", \"title\": {\"text\": \"percentage\"}}, \"xaxis4\": {\"anchor\": \"y4\", \"domain\": [0.42857142857142855, 0.5514285714285714], \"matches\": \"x\", \"title\": {\"text\": \"percentage\"}}, \"xaxis5\": {\"anchor\": \"y5\", \"domain\": [0.5714285714285714, 0.6942857142857143], \"matches\": \"x\", \"title\": {\"text\": \"percentage\"}}, \"xaxis6\": {\"anchor\": \"y6\", \"domain\": [0.7142857142857142, 0.8371428571428571], \"matches\": \"x\", \"title\": {\"text\": \"percentage\"}}, \"xaxis7\": {\"anchor\": \"y7\", \"domain\": [0.8571428571428571, 0.98], \"matches\": \"x\", \"title\": {\"text\": \"percentage\"}}, \"yaxis\": {\"anchor\": \"x\", \"domain\": [0.0, 1.0], \"title\": {\"text\": \"bloc\"}}, \"yaxis2\": {\"anchor\": \"x2\", \"domain\": [0.0, 1.0], \"matches\": \"y\", \"showticklabels\": false}, \"yaxis3\": {\"anchor\": \"x3\", \"domain\": [0.0, 1.0], \"matches\": \"y\", \"showticklabels\": false}, \"yaxis4\": {\"anchor\": \"x4\", \"domain\": [0.0, 1.0], \"matches\": \"y\", \"showticklabels\": false}, \"yaxis5\": {\"anchor\": \"x5\", \"domain\": [0.0, 1.0], \"matches\": \"y\", \"showticklabels\": false}, \"yaxis6\": {\"anchor\": \"x6\", \"domain\": [0.0, 1.0], \"matches\": \"y\", \"showticklabels\": false}, \"yaxis7\": {\"anchor\": \"x7\", \"domain\": [0.0, 1.0], \"matches\": \"y\", \"showticklabels\": false}},\n",
       "                        {\"responsive\": true}\n",
       "                    ).then(function(){\n",
       "                            \n",
       "var gd = document.getElementById('bffdb2e1-4ee0-4918-ad6a-ad6eab180091');\n",
       "var x = new MutationObserver(function (mutations, observer) {{\n",
       "        var display = window.getComputedStyle(gd).display;\n",
       "        if (!display || display === 'none') {{\n",
       "            console.log([gd, 'removed!']);\n",
       "            Plotly.purge(gd);\n",
       "            observer.disconnect();\n",
       "        }}\n",
       "}});\n",
       "\n",
       "// Listen for the removal of the full notebook cells\n",
       "var notebookContainer = gd.closest('#notebook-container');\n",
       "if (notebookContainer) {{\n",
       "    x.observe(notebookContainer, {childList: true});\n",
       "}}\n",
       "\n",
       "// Listen for the clearing of the current output cell\n",
       "var outputEl = gd.closest('.output');\n",
       "if (outputEl) {{\n",
       "    x.observe(outputEl, {childList: true});\n",
       "}}\n",
       "\n",
       "                        })\n",
       "                };\n",
       "                });\n",
       "            </script>\n",
       "        </div>"
      ]
     },
     "metadata": {},
     "output_type": "display_data"
    }
   ],
   "source": [
    "px.bar(vdb, y=\"bloc\", x=\"percentage\", facet_col=\"law\", color=\"vote\",  orientation=\"h\", text=\"percentage\", width=w, height=h)"
   ]
  },
  {
   "cell_type": "markdown",
   "metadata": {},
   "source": [
    "## Table plot: vote per bloc per finance law"
   ]
  },
  {
   "cell_type": "markdown",
   "metadata": {},
   "source": [
    "https://altair-viz.github.io/gallery/table_bubble_plot_github.html"
   ]
  },
  {
   "cell_type": "code",
   "execution_count": 29,
   "metadata": {},
   "outputs": [
    {
     "data": {
      "application/vnd.vegalite.v3+json": {
       "$schema": "https://vega.github.io/schema/vega-lite/v3.4.0.json",
       "columns": 3,
       "config": {
        "mark": {
         "tooltip": null
        },
        "view": {
         "height": 300,
         "width": 400
        }
       },
       "data": {
        "name": "data-129c590972f0a562d17bf9ecb1a2a39a"
       },
       "datasets": {
        "data-129c590972f0a562d17bf9ecb1a2a39a": [
         {
          "bloc": "Allégeance à la Patrie",
          "law": "2015-1",
          "percentage": 44,
          "vote": "X"
         },
         {
          "bloc": "Aucun bloc",
          "law": "2015-1",
          "percentage": 23,
          "vote": "X"
         },
         {
          "bloc": "Bloc Al Horra du Mouvement Machrouu Tounes",
          "law": "2015-1",
          "percentage": 17,
          "vote": "X"
         },
         {
          "bloc": "Bloc Démocrate",
          "law": "2015-1",
          "percentage": 17,
          "vote": "X"
         },
         {
          "bloc": "Coalition nationale",
          "law": "2015-1",
          "percentage": 30,
          "vote": "X"
         },
         {
          "bloc": "Mouvement Ennahdha",
          "law": "2015-1",
          "percentage": 27,
          "vote": "X"
         },
         {
          "bloc": "Mouvement Nidaa Tounes",
          "law": "2015-1",
          "percentage": 53,
          "vote": "X"
         },
         {
          "bloc": "Allégeance à la Patrie",
          "law": "2016-0",
          "percentage": 44,
          "vote": "X"
         },
         {
          "bloc": "Aucun bloc",
          "law": "2016-0",
          "percentage": 49,
          "vote": "X"
         },
         {
          "bloc": "Bloc Al Horra du Mouvement Machrouu Tounes",
          "law": "2016-0",
          "percentage": 15,
          "vote": "X"
         },
         {
          "bloc": "Bloc Démocrate",
          "law": "2016-0",
          "percentage": 100,
          "vote": "X"
         },
         {
          "bloc": "Coalition nationale",
          "law": "2016-0",
          "percentage": 15,
          "vote": "X"
         },
         {
          "bloc": "Mouvement Ennahdha",
          "law": "2016-0",
          "percentage": 18,
          "vote": "X"
         },
         {
          "bloc": "Mouvement Nidaa Tounes",
          "law": "2016-0",
          "percentage": 32,
          "vote": "X"
         },
         {
          "bloc": "Allégeance à la Patrie",
          "law": "2016-1",
          "percentage": 60,
          "vote": "X"
         },
         {
          "bloc": "Aucun bloc",
          "law": "2016-1",
          "percentage": 50,
          "vote": "X"
         },
         {
          "bloc": "Bloc Al Horra du Mouvement Machrouu Tounes",
          "law": "2016-1",
          "percentage": 54,
          "vote": "X"
         },
         {
          "bloc": "Bloc Démocrate",
          "law": "2016-1",
          "percentage": 17,
          "vote": "X"
         },
         {
          "bloc": "Coalition nationale",
          "law": "2016-1",
          "percentage": 65,
          "vote": "X"
         },
         {
          "bloc": "Mouvement Ennahdha",
          "law": "2016-1",
          "percentage": 36,
          "vote": "X"
         },
         {
          "bloc": "Mouvement Nidaa Tounes",
          "law": "2016-1",
          "percentage": 39,
          "vote": "X"
         },
         {
          "bloc": "Allégeance à la Patrie",
          "law": "2017-0",
          "percentage": 22,
          "vote": "X"
         },
         {
          "bloc": "Aucun bloc",
          "law": "2017-0",
          "percentage": 26,
          "vote": "X"
         },
         {
          "bloc": "Bloc Al Horra du Mouvement Machrouu Tounes",
          "law": "2017-0",
          "percentage": 23,
          "vote": "X"
         },
         {
          "bloc": "Bloc Démocrate",
          "law": "2017-0",
          "percentage": 25,
          "vote": "X"
         },
         {
          "bloc": "Coalition nationale",
          "law": "2017-0",
          "percentage": 19,
          "vote": "X"
         },
         {
          "bloc": "Mouvement Ennahdha",
          "law": "2017-0",
          "percentage": 18,
          "vote": "X"
         },
         {
          "bloc": "Mouvement Nidaa Tounes",
          "law": "2017-0",
          "percentage": 20,
          "vote": "X"
         },
         {
          "bloc": "Allégeance à la Patrie",
          "law": "2017-1",
          "percentage": 80,
          "vote": "X"
         },
         {
          "bloc": "Aucun bloc",
          "law": "2017-1",
          "percentage": 50,
          "vote": "X"
         },
         {
          "bloc": "Bloc Al Horra du Mouvement Machrouu Tounes",
          "law": "2017-1",
          "percentage": 46,
          "vote": "X"
         },
         {
          "bloc": "Bloc Démocrate",
          "law": "2017-1",
          "percentage": 50,
          "vote": "X"
         },
         {
          "bloc": "Coalition nationale",
          "law": "2017-1",
          "percentage": 53,
          "vote": "X"
         },
         {
          "bloc": "Mouvement Ennahdha",
          "law": "2017-1",
          "percentage": 24,
          "vote": "X"
         },
         {
          "bloc": "Mouvement Nidaa Tounes",
          "law": "2017-1",
          "percentage": 41,
          "vote": "X"
         },
         {
          "bloc": "Allégeance à la Patrie",
          "law": "2018-0",
          "percentage": 40,
          "vote": "X"
         },
         {
          "bloc": "Aucun bloc",
          "law": "2018-0",
          "percentage": 24,
          "vote": "X"
         },
         {
          "bloc": "Bloc Al Horra du Mouvement Machrouu Tounes",
          "law": "2018-0",
          "percentage": 54,
          "vote": "X"
         },
         {
          "bloc": "Bloc Démocrate",
          "law": "2018-0",
          "percentage": 33,
          "vote": "X"
         },
         {
          "bloc": "Coalition nationale",
          "law": "2018-0",
          "percentage": 19,
          "vote": "X"
         },
         {
          "bloc": "Mouvement Ennahdha",
          "law": "2018-0",
          "percentage": 21,
          "vote": "X"
         },
         {
          "bloc": "Mouvement Nidaa Tounes",
          "law": "2018-0",
          "percentage": 11,
          "vote": "X"
         },
         {
          "bloc": "Allégeance à la Patrie",
          "law": "2019-0",
          "percentage": 30,
          "vote": "X"
         },
         {
          "bloc": "Aucun bloc",
          "law": "2019-0",
          "percentage": 35,
          "vote": "X"
         },
         {
          "bloc": "Bloc Al Horra du Mouvement Machrouu Tounes",
          "law": "2019-0",
          "percentage": 27,
          "vote": "X"
         },
         {
          "bloc": "Bloc Démocrate",
          "law": "2019-0",
          "percentage": 17,
          "vote": "X"
         },
         {
          "bloc": "Coalition nationale",
          "law": "2019-0",
          "percentage": 16,
          "vote": "X"
         },
         {
          "bloc": "Mouvement Ennahdha",
          "law": "2019-0",
          "percentage": 15,
          "vote": "X"
         },
         {
          "bloc": "Mouvement Nidaa Tounes",
          "law": "2019-0",
          "percentage": 54,
          "vote": "X"
         },
         {
          "bloc": "Allégeance à la Patrie",
          "law": "2015-1",
          "percentage": 33,
          "vote": "pour"
         },
         {
          "bloc": "Aucun bloc",
          "law": "2015-1",
          "percentage": 48,
          "vote": "pour"
         },
         {
          "bloc": "Bloc Al Horra du Mouvement Machrouu Tounes",
          "law": "2015-1",
          "percentage": 83,
          "vote": "pour"
         },
         {
          "bloc": "Bloc Démocrate",
          "law": "2015-1",
          "percentage": 17,
          "vote": "pour"
         },
         {
          "bloc": "Coalition nationale",
          "law": "2015-1",
          "percentage": 68,
          "vote": "pour"
         },
         {
          "bloc": "Mouvement Ennahdha",
          "law": "2015-1",
          "percentage": 71,
          "vote": "pour"
         },
         {
          "bloc": "Mouvement Nidaa Tounes",
          "law": "2015-1",
          "percentage": 41,
          "vote": "pour"
         },
         {
          "bloc": "Allégeance à la Patrie",
          "law": "2016-0",
          "percentage": 56,
          "vote": "pour"
         },
         {
          "bloc": "Aucun bloc",
          "law": "2016-0",
          "percentage": 47,
          "vote": "pour"
         },
         {
          "bloc": "Bloc Al Horra du Mouvement Machrouu Tounes",
          "law": "2016-0",
          "percentage": 85,
          "vote": "pour"
         },
         {
          "bloc": "Bloc Démocrate",
          "law": "2016-0",
          "percentage": 0,
          "vote": "pour"
         },
         {
          "bloc": "Coalition nationale",
          "law": "2016-0",
          "percentage": 80,
          "vote": "pour"
         },
         {
          "bloc": "Mouvement Ennahdha",
          "law": "2016-0",
          "percentage": 77,
          "vote": "pour"
         },
         {
          "bloc": "Mouvement Nidaa Tounes",
          "law": "2016-0",
          "percentage": 68,
          "vote": "pour"
         },
         {
          "bloc": "Allégeance à la Patrie",
          "law": "2016-1",
          "percentage": 30,
          "vote": "pour"
         },
         {
          "bloc": "Aucun bloc",
          "law": "2016-1",
          "percentage": 26,
          "vote": "pour"
         },
         {
          "bloc": "Bloc Al Horra du Mouvement Machrouu Tounes",
          "law": "2016-1",
          "percentage": 46,
          "vote": "pour"
         },
         {
          "bloc": "Bloc Démocrate",
          "law": "2016-1",
          "percentage": 8,
          "vote": "pour"
         },
         {
          "bloc": "Coalition nationale",
          "law": "2016-1",
          "percentage": 35,
          "vote": "pour"
         },
         {
          "bloc": "Mouvement Ennahdha",
          "law": "2016-1",
          "percentage": 63,
          "vote": "pour"
         },
         {
          "bloc": "Mouvement Nidaa Tounes",
          "law": "2016-1",
          "percentage": 61,
          "vote": "pour"
         },
         {
          "bloc": "Allégeance à la Patrie",
          "law": "2017-0",
          "percentage": 44,
          "vote": "pour"
         },
         {
          "bloc": "Aucun bloc",
          "law": "2017-0",
          "percentage": 26,
          "vote": "pour"
         },
         {
          "bloc": "Bloc Al Horra du Mouvement Machrouu Tounes",
          "law": "2017-0",
          "percentage": 8,
          "vote": "pour"
         },
         {
          "bloc": "Bloc Démocrate",
          "law": "2017-0",
          "percentage": 0,
          "vote": "pour"
         },
         {
          "bloc": "Coalition nationale",
          "law": "2017-0",
          "percentage": 67,
          "vote": "pour"
         },
         {
          "bloc": "Mouvement Ennahdha",
          "law": "2017-0",
          "percentage": 82,
          "vote": "pour"
         },
         {
          "bloc": "Mouvement Nidaa Tounes",
          "law": "2017-0",
          "percentage": 66,
          "vote": "pour"
         },
         {
          "bloc": "Allégeance à la Patrie",
          "law": "2017-1",
          "percentage": 10,
          "vote": "pour"
         },
         {
          "bloc": "Aucun bloc",
          "law": "2017-1",
          "percentage": 26,
          "vote": "pour"
         },
         {
          "bloc": "Bloc Al Horra du Mouvement Machrouu Tounes",
          "law": "2017-1",
          "percentage": 54,
          "vote": "pour"
         },
         {
          "bloc": "Bloc Démocrate",
          "law": "2017-1",
          "percentage": 8,
          "vote": "pour"
         },
         {
          "bloc": "Coalition nationale",
          "law": "2017-1",
          "percentage": 44,
          "vote": "pour"
         },
         {
          "bloc": "Mouvement Ennahdha",
          "law": "2017-1",
          "percentage": 76,
          "vote": "pour"
         },
         {
          "bloc": "Mouvement Nidaa Tounes",
          "law": "2017-1",
          "percentage": 57,
          "vote": "pour"
         },
         {
          "bloc": "Allégeance à la Patrie",
          "law": "2018-0",
          "percentage": 30,
          "vote": "pour"
         },
         {
          "bloc": "Aucun bloc",
          "law": "2018-0",
          "percentage": 35,
          "vote": "pour"
         },
         {
          "bloc": "Bloc Al Horra du Mouvement Machrouu Tounes",
          "law": "2018-0",
          "percentage": 8,
          "vote": "pour"
         },
         {
          "bloc": "Bloc Démocrate",
          "law": "2018-0",
          "percentage": 0,
          "vote": "pour"
         },
         {
          "bloc": "Coalition nationale",
          "law": "2018-0",
          "percentage": 74,
          "vote": "pour"
         },
         {
          "bloc": "Mouvement Ennahdha",
          "law": "2018-0",
          "percentage": 76,
          "vote": "pour"
         },
         {
          "bloc": "Mouvement Nidaa Tounes",
          "law": "2018-0",
          "percentage": 89,
          "vote": "pour"
         },
         {
          "bloc": "Allégeance à la Patrie",
          "law": "2019-0",
          "percentage": 20,
          "vote": "pour"
         },
         {
          "bloc": "Aucun bloc",
          "law": "2019-0",
          "percentage": 6,
          "vote": "pour"
         },
         {
          "bloc": "Bloc Al Horra du Mouvement Machrouu Tounes",
          "law": "2019-0",
          "percentage": 73,
          "vote": "pour"
         },
         {
          "bloc": "Bloc Démocrate",
          "law": "2019-0",
          "percentage": 0,
          "vote": "pour"
         },
         {
          "bloc": "Coalition nationale",
          "law": "2019-0",
          "percentage": 84,
          "vote": "pour"
         },
         {
          "bloc": "Mouvement Ennahdha",
          "law": "2019-0",
          "percentage": 85,
          "vote": "pour"
         },
         {
          "bloc": "Mouvement Nidaa Tounes",
          "law": "2019-0",
          "percentage": 8,
          "vote": "pour"
         },
         {
          "bloc": "Allégeance à la Patrie",
          "law": "2015-1",
          "percentage": 22,
          "vote": "contre"
         },
         {
          "bloc": "Aucun bloc",
          "law": "2015-1",
          "percentage": 27,
          "vote": "contre"
         },
         {
          "bloc": "Bloc Al Horra du Mouvement Machrouu Tounes",
          "law": "2015-1",
          "percentage": 0,
          "vote": "contre"
         },
         {
          "bloc": "Bloc Démocrate",
          "law": "2015-1",
          "percentage": 67,
          "vote": "contre"
         },
         {
          "bloc": "Coalition nationale",
          "law": "2015-1",
          "percentage": 2,
          "vote": "contre"
         },
         {
          "bloc": "Mouvement Ennahdha",
          "law": "2015-1",
          "percentage": 0,
          "vote": "contre"
         },
         {
          "bloc": "Mouvement Nidaa Tounes",
          "law": "2015-1",
          "percentage": 3,
          "vote": "contre"
         },
         {
          "bloc": "Allégeance à la Patrie",
          "law": "2016-0",
          "percentage": 0,
          "vote": "contre"
         },
         {
          "bloc": "Aucun bloc",
          "law": "2016-0",
          "percentage": 0,
          "vote": "contre"
         },
         {
          "bloc": "Bloc Al Horra du Mouvement Machrouu Tounes",
          "law": "2016-0",
          "percentage": 0,
          "vote": "contre"
         },
         {
          "bloc": "Bloc Démocrate",
          "law": "2016-0",
          "percentage": 0,
          "vote": "contre"
         },
         {
          "bloc": "Coalition nationale",
          "law": "2016-0",
          "percentage": 0,
          "vote": "contre"
         },
         {
          "bloc": "Mouvement Ennahdha",
          "law": "2016-0",
          "percentage": 0,
          "vote": "contre"
         },
         {
          "bloc": "Mouvement Nidaa Tounes",
          "law": "2016-0",
          "percentage": 0,
          "vote": "contre"
         },
         {
          "bloc": "Allégeance à la Patrie",
          "law": "2016-1",
          "percentage": 10,
          "vote": "contre"
         },
         {
          "bloc": "Aucun bloc",
          "law": "2016-1",
          "percentage": 24,
          "vote": "contre"
         },
         {
          "bloc": "Bloc Al Horra du Mouvement Machrouu Tounes",
          "law": "2016-1",
          "percentage": 0,
          "vote": "contre"
         },
         {
          "bloc": "Bloc Démocrate",
          "law": "2016-1",
          "percentage": 75,
          "vote": "contre"
         },
         {
          "bloc": "Coalition nationale",
          "law": "2016-1",
          "percentage": 0,
          "vote": "contre"
         },
         {
          "bloc": "Mouvement Ennahdha",
          "law": "2016-1",
          "percentage": 0,
          "vote": "contre"
         },
         {
          "bloc": "Mouvement Nidaa Tounes",
          "law": "2016-1",
          "percentage": 0,
          "vote": "contre"
         },
         {
          "bloc": "Allégeance à la Patrie",
          "law": "2017-0",
          "percentage": 33,
          "vote": "contre"
         },
         {
          "bloc": "Aucun bloc",
          "law": "2017-0",
          "percentage": 47,
          "vote": "contre"
         },
         {
          "bloc": "Bloc Al Horra du Mouvement Machrouu Tounes",
          "law": "2017-0",
          "percentage": 69,
          "vote": "contre"
         },
         {
          "bloc": "Bloc Démocrate",
          "law": "2017-0",
          "percentage": 75,
          "vote": "contre"
         },
         {
          "bloc": "Coalition nationale",
          "law": "2017-0",
          "percentage": 9,
          "vote": "contre"
         },
         {
          "bloc": "Mouvement Ennahdha",
          "law": "2017-0",
          "percentage": 0,
          "vote": "contre"
         },
         {
          "bloc": "Mouvement Nidaa Tounes",
          "law": "2017-0",
          "percentage": 14,
          "vote": "contre"
         },
         {
          "bloc": "Allégeance à la Patrie",
          "law": "2017-1",
          "percentage": 0,
          "vote": "contre"
         },
         {
          "bloc": "Aucun bloc",
          "law": "2017-1",
          "percentage": 21,
          "vote": "contre"
         },
         {
          "bloc": "Bloc Al Horra du Mouvement Machrouu Tounes",
          "law": "2017-1",
          "percentage": 0,
          "vote": "contre"
         },
         {
          "bloc": "Bloc Démocrate",
          "law": "2017-1",
          "percentage": 42,
          "vote": "contre"
         },
         {
          "bloc": "Coalition nationale",
          "law": "2017-1",
          "percentage": 0,
          "vote": "contre"
         },
         {
          "bloc": "Mouvement Ennahdha",
          "law": "2017-1",
          "percentage": 0,
          "vote": "contre"
         },
         {
          "bloc": "Mouvement Nidaa Tounes",
          "law": "2017-1",
          "percentage": 0,
          "vote": "contre"
         },
         {
          "bloc": "Allégeance à la Patrie",
          "law": "2018-0",
          "percentage": 0,
          "vote": "contre"
         },
         {
          "bloc": "Aucun bloc",
          "law": "2018-0",
          "percentage": 38,
          "vote": "contre"
         },
         {
          "bloc": "Bloc Al Horra du Mouvement Machrouu Tounes",
          "law": "2018-0",
          "percentage": 0,
          "vote": "contre"
         },
         {
          "bloc": "Bloc Démocrate",
          "law": "2018-0",
          "percentage": 67,
          "vote": "contre"
         },
         {
          "bloc": "Coalition nationale",
          "law": "2018-0",
          "percentage": 0,
          "vote": "contre"
         },
         {
          "bloc": "Mouvement Ennahdha",
          "law": "2018-0",
          "percentage": 0,
          "vote": "contre"
         },
         {
          "bloc": "Mouvement Nidaa Tounes",
          "law": "2018-0",
          "percentage": 0,
          "vote": "contre"
         },
         {
          "bloc": "Allégeance à la Patrie",
          "law": "2019-0",
          "percentage": 20,
          "vote": "contre"
         },
         {
          "bloc": "Aucun bloc",
          "law": "2019-0",
          "percentage": 55,
          "vote": "contre"
         },
         {
          "bloc": "Bloc Al Horra du Mouvement Machrouu Tounes",
          "law": "2019-0",
          "percentage": 0,
          "vote": "contre"
         },
         {
          "bloc": "Bloc Démocrate",
          "law": "2019-0",
          "percentage": 83,
          "vote": "contre"
         },
         {
          "bloc": "Coalition nationale",
          "law": "2019-0",
          "percentage": 0,
          "vote": "contre"
         },
         {
          "bloc": "Mouvement Ennahdha",
          "law": "2019-0",
          "percentage": 0,
          "vote": "contre"
         },
         {
          "bloc": "Mouvement Nidaa Tounes",
          "law": "2019-0",
          "percentage": 19,
          "vote": "contre"
         },
         {
          "bloc": "Allégeance à la Patrie",
          "law": "2015-1",
          "percentage": 0,
          "vote": "abstenu"
         },
         {
          "bloc": "Aucun bloc",
          "law": "2015-1",
          "percentage": 2,
          "vote": "abstenu"
         },
         {
          "bloc": "Bloc Al Horra du Mouvement Machrouu Tounes",
          "law": "2015-1",
          "percentage": 0,
          "vote": "abstenu"
         },
         {
          "bloc": "Bloc Démocrate",
          "law": "2015-1",
          "percentage": 0,
          "vote": "abstenu"
         },
         {
          "bloc": "Coalition nationale",
          "law": "2015-1",
          "percentage": 0,
          "vote": "abstenu"
         },
         {
          "bloc": "Mouvement Ennahdha",
          "law": "2015-1",
          "percentage": 2,
          "vote": "abstenu"
         },
         {
          "bloc": "Mouvement Nidaa Tounes",
          "law": "2015-1",
          "percentage": 3,
          "vote": "abstenu"
         },
         {
          "bloc": "Allégeance à la Patrie",
          "law": "2016-0",
          "percentage": 0,
          "vote": "abstenu"
         },
         {
          "bloc": "Aucun bloc",
          "law": "2016-0",
          "percentage": 5,
          "vote": "abstenu"
         },
         {
          "bloc": "Bloc Al Horra du Mouvement Machrouu Tounes",
          "law": "2016-0",
          "percentage": 0,
          "vote": "abstenu"
         },
         {
          "bloc": "Bloc Démocrate",
          "law": "2016-0",
          "percentage": 0,
          "vote": "abstenu"
         },
         {
          "bloc": "Coalition nationale",
          "law": "2016-0",
          "percentage": 5,
          "vote": "abstenu"
         },
         {
          "bloc": "Mouvement Ennahdha",
          "law": "2016-0",
          "percentage": 5,
          "vote": "abstenu"
         },
         {
          "bloc": "Mouvement Nidaa Tounes",
          "law": "2016-0",
          "percentage": 0,
          "vote": "abstenu"
         },
         {
          "bloc": "Allégeance à la Patrie",
          "law": "2016-1",
          "percentage": 0,
          "vote": "abstenu"
         },
         {
          "bloc": "Aucun bloc",
          "law": "2016-1",
          "percentage": 0,
          "vote": "abstenu"
         },
         {
          "bloc": "Bloc Al Horra du Mouvement Machrouu Tounes",
          "law": "2016-1",
          "percentage": 0,
          "vote": "abstenu"
         },
         {
          "bloc": "Bloc Démocrate",
          "law": "2016-1",
          "percentage": 0,
          "vote": "abstenu"
         },
         {
          "bloc": "Coalition nationale",
          "law": "2016-1",
          "percentage": 0,
          "vote": "abstenu"
         },
         {
          "bloc": "Mouvement Ennahdha",
          "law": "2016-1",
          "percentage": 1,
          "vote": "abstenu"
         },
         {
          "bloc": "Mouvement Nidaa Tounes",
          "law": "2016-1",
          "percentage": 0,
          "vote": "abstenu"
         },
         {
          "bloc": "Allégeance à la Patrie",
          "law": "2017-0",
          "percentage": 0,
          "vote": "abstenu"
         },
         {
          "bloc": "Aucun bloc",
          "law": "2017-0",
          "percentage": 0,
          "vote": "abstenu"
         },
         {
          "bloc": "Bloc Al Horra du Mouvement Machrouu Tounes",
          "law": "2017-0",
          "percentage": 0,
          "vote": "abstenu"
         },
         {
          "bloc": "Bloc Démocrate",
          "law": "2017-0",
          "percentage": 0,
          "vote": "abstenu"
         },
         {
          "bloc": "Coalition nationale",
          "law": "2017-0",
          "percentage": 5,
          "vote": "abstenu"
         },
         {
          "bloc": "Mouvement Ennahdha",
          "law": "2017-0",
          "percentage": 0,
          "vote": "abstenu"
         },
         {
          "bloc": "Mouvement Nidaa Tounes",
          "law": "2017-0",
          "percentage": 0,
          "vote": "abstenu"
         },
         {
          "bloc": "Allégeance à la Patrie",
          "law": "2017-1",
          "percentage": 10,
          "vote": "abstenu"
         },
         {
          "bloc": "Aucun bloc",
          "law": "2017-1",
          "percentage": 3,
          "vote": "abstenu"
         },
         {
          "bloc": "Bloc Al Horra du Mouvement Machrouu Tounes",
          "law": "2017-1",
          "percentage": 0,
          "vote": "abstenu"
         },
         {
          "bloc": "Bloc Démocrate",
          "law": "2017-1",
          "percentage": 0,
          "vote": "abstenu"
         },
         {
          "bloc": "Coalition nationale",
          "law": "2017-1",
          "percentage": 2,
          "vote": "abstenu"
         },
         {
          "bloc": "Mouvement Ennahdha",
          "law": "2017-1",
          "percentage": 0,
          "vote": "abstenu"
         },
         {
          "bloc": "Mouvement Nidaa Tounes",
          "law": "2017-1",
          "percentage": 3,
          "vote": "abstenu"
         },
         {
          "bloc": "Allégeance à la Patrie",
          "law": "2018-0",
          "percentage": 30,
          "vote": "abstenu"
         },
         {
          "bloc": "Aucun bloc",
          "law": "2018-0",
          "percentage": 3,
          "vote": "abstenu"
         },
         {
          "bloc": "Bloc Al Horra du Mouvement Machrouu Tounes",
          "law": "2018-0",
          "percentage": 38,
          "vote": "abstenu"
         },
         {
          "bloc": "Bloc Démocrate",
          "law": "2018-0",
          "percentage": 0,
          "vote": "abstenu"
         },
         {
          "bloc": "Coalition nationale",
          "law": "2018-0",
          "percentage": 7,
          "vote": "abstenu"
         },
         {
          "bloc": "Mouvement Ennahdha",
          "law": "2018-0",
          "percentage": 3,
          "vote": "abstenu"
         },
         {
          "bloc": "Mouvement Nidaa Tounes",
          "law": "2018-0",
          "percentage": 0,
          "vote": "abstenu"
         },
         {
          "bloc": "Allégeance à la Patrie",
          "law": "2019-0",
          "percentage": 30,
          "vote": "abstenu"
         },
         {
          "bloc": "Aucun bloc",
          "law": "2019-0",
          "percentage": 3,
          "vote": "abstenu"
         },
         {
          "bloc": "Bloc Al Horra du Mouvement Machrouu Tounes",
          "law": "2019-0",
          "percentage": 0,
          "vote": "abstenu"
         },
         {
          "bloc": "Bloc Démocrate",
          "law": "2019-0",
          "percentage": 0,
          "vote": "abstenu"
         },
         {
          "bloc": "Coalition nationale",
          "law": "2019-0",
          "percentage": 0,
          "vote": "abstenu"
         },
         {
          "bloc": "Mouvement Ennahdha",
          "law": "2019-0",
          "percentage": 0,
          "vote": "abstenu"
         },
         {
          "bloc": "Mouvement Nidaa Tounes",
          "law": "2019-0",
          "percentage": 19,
          "vote": "abstenu"
         }
        ]
       },
       "facet": {
        "field": "law",
        "type": "nominal"
       },
       "spec": {
        "encoding": {
         "color": {
          "field": "vote",
          "type": "nominal"
         },
         "size": {
          "aggregate": "sum",
          "field": "percentage",
          "type": "quantitative"
         },
         "tooltip": [
          {
           "field": "bloc",
           "type": "nominal"
          },
          {
           "field": "vote",
           "type": "nominal"
          },
          {
           "field": "percentage",
           "type": "quantitative"
          }
         ],
         "x": {
          "field": "percentage",
          "type": "quantitative"
         },
         "y": {
          "field": "bloc",
          "type": "nominal"
         }
        },
        "height": 168.75,
        "mark": "circle",
        "width": 300
       }
      },
      "image/png": "[encoded data removed]",
      "text/plain": [
       "<VegaLite 3 object>\n",
       "\n",
       "If you see this message, it means the renderer has not been properly enabled\n",
       "for the frontend that you are using. For more information, see\n",
       "https://altair-viz.github.io/user_guide/troubleshooting.html\n"
      ]
     },
     "execution_count": 29,
     "metadata": {},
     "output_type": "execute_result"
    }
   ],
   "source": [
    "alt.Chart(vdb).mark_circle().encode(\n",
    "    y=\"bloc\",\n",
    "    x=\"percentage\",\n",
    "    size=\"sum(percentage)\",\n",
    "    color=\"vote\",\n",
    "    tooltip=[\"bloc\", \"vote\", \"percentage\"],\n",
    ").properties(width=w, height=h).facet(\"law\", columns=3)"
   ]
  },
  {
   "cell_type": "code",
   "execution_count": null,
   "metadata": {},
   "outputs": [],
   "source": []
  }
 ],
 "metadata": {
  "kernelspec": {
   "display_name": "Python 3",
   "language": "python",
   "name": "python3"
  },
  "language_info": {
   "codemirror_mode": {
    "name": "ipython",
    "version": 3
   },
   "file_extension": ".py",
   "mimetype": "text/x-python",
   "name": "python",
   "nbconvert_exporter": "python",
   "pygments_lexer": "ipython3",
   "version": "3.7.3"
  }
 },
 "nbformat": 4,
 "nbformat_minor": 4
}
